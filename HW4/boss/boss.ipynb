{
  "cells": [
    {
      "cell_type": "markdown",
      "metadata": {
        "id": "C_jdZ5vHJ4A9"
      },
      "source": [
        "# Task description\n",
        "- Classify the speakers of given features.\n",
        "- Main goal: Learn how to use transformer.\n",
        "- Baselines:\n",
        "  - Easy: Run sample code and know how to use transformer.\n",
        "  - Medium: Know how to adjust parameters of transformer.\n",
        "  - Strong: Construct [conformer](https://arxiv.org/abs/2005.08100) which is a variety of transformer. \n",
        "  - Boss: Implement [Self-Attention Pooling](https://arxiv.org/pdf/2008.01077v1.pdf) & [Additive Margin Softmax](https://arxiv.org/pdf/1801.05599.pdf) to further boost the performance.\n",
        "\n",
        "- Other links\n",
        "  - Kaggle: [link](https://www.kaggle.com/t/ac77388c90204a4c8daebeddd40ff916)\n",
        "  - Slide: [link](https://docs.google.com/presentation/d/1HLAj7UUIjZOycDe7DaVLSwJfXVd3bXPOyzSb6Zk3hYU/edit?usp=sharing)\n",
        "  - Data: [link](https://drive.google.com/drive/folders/1vI1kuLB-q1VilIftiwnPOCAeOOFfBZge?usp=sharing)\n",
        "\n",
        "# Download dataset\n",
        "- Data is [here](https://drive.google.com/drive/folders/1vI1kuLB-q1VilIftiwnPOCAeOOFfBZge?usp=sharing)"
      ]
    },
    {
      "cell_type": "code",
      "execution_count": 1,
      "metadata": {
        "id": "LhLNWB-AK2Z5"
      },
      "outputs": [],
      "source": [
        "# !wget https://github.com/MachineLearningHW/ML_HW4_Dataset/releases/latest/download/Dataset.tar.gz.partaa\n",
        "# !wget https://github.com/MachineLearningHW/ML_HW4_Dataset/releases/latest/download/Dataset.tar.gz.partab\n",
        "# !wget https://github.com/MachineLearningHW/ML_HW4_Dataset/releases/latest/download/Dataset.tar.gz.partac\n",
        "# !wget https://github.com/MachineLearningHW/ML_HW4_Dataset/releases/latest/download/Dataset.tar.gz.partad\n",
        "\n",
        "# !cat Dataset.tar.gz.part* > Dataset.tar.gz\n",
        "\n",
        "# # unzip the file\n",
        "# !tar zxvf Dataset.tar.gz\n",
        "\n",
        "# !unzip Dataset.zip -d Dataset/"
      ]
    },
    {
      "cell_type": "markdown",
      "metadata": {
        "id": "ENWVAUDVJtVY"
      },
      "source": [
        "## Fix Random Seed"
      ]
    },
    {
      "cell_type": "code",
      "execution_count": 2,
      "metadata": {
        "id": "E6burzCXIyuA"
      },
      "outputs": [],
      "source": [
        "import numpy as np\n",
        "import torch\n",
        "import random\n",
        "\n",
        "def set_seed(seed):\n",
        "    np.random.seed(seed)\n",
        "    random.seed(seed)\n",
        "    torch.manual_seed(seed)\n",
        "    if torch.cuda.is_available():\n",
        "        torch.cuda.manual_seed(seed)\n",
        "        torch.cuda.manual_seed_all(seed)\n",
        "    torch.backends.cudnn.benchmark = False\n",
        "    torch.backends.cudnn.deterministic = True\n",
        "\n",
        "myseed = 94\n",
        "set_seed(myseed)"
      ]
    },
    {
      "cell_type": "markdown",
      "metadata": {
        "id": "k7dVbxW2LASN"
      },
      "source": [
        "# Data\n",
        "\n",
        "## Dataset\n",
        "- Original dataset is [Voxceleb2](https://www.robots.ox.ac.uk/~vgg/data/voxceleb/vox2.html).\n",
        "- The [license](https://creativecommons.org/licenses/by/4.0/) and [complete version](https://www.robots.ox.ac.uk/~vgg/data/voxceleb/files/license.txt) of Voxceleb2.\n",
        "- We randomly select 600 speakers from Voxceleb2.\n",
        "- Then preprocess the raw waveforms into mel-spectrograms.\n",
        "\n",
        "- Args:\n",
        "  - data_dir: The path to the data directory.\n",
        "  - metadata_path: The path to the metadata.\n",
        "  - segment_len: The length of audio segment for training. \n",
        "- The architecture of data directory \\\\\n",
        "  - data directory \\\\\n",
        "  |---- metadata.json \\\\\n",
        "  |---- testdata.json \\\\\n",
        "  |---- mapping.json \\\\\n",
        "  |---- uttr-{random string}.pt \\\\\n",
        "\n",
        "- The information in metadata\n",
        "  - \"n_mels\": The dimention of mel-spectrogram.\n",
        "  - \"speakers\": A dictionary. \n",
        "    - Key: speaker ids.\n",
        "    - value: \"feature_path\" and \"mel_len\"\n",
        "\n",
        "\n",
        "For efficiency, we segment the mel-spectrograms into segments in the traing step."
      ]
    },
    {
      "cell_type": "code",
      "execution_count": 3,
      "metadata": {
        "id": "KpuGxl4CI2pr"
      },
      "outputs": [],
      "source": [
        "import os\n",
        "import json\n",
        "import torch\n",
        "import random\n",
        "from pathlib import Path\n",
        "from torch.utils.data import Dataset\n",
        "from torch.nn.utils.rnn import pad_sequence\n",
        " \n",
        " \n",
        "class myDataset(Dataset):\n",
        "\tdef __init__(self, data_dir, segment_len=128):\n",
        "\t\tself.data_dir = data_dir\n",
        "\t\tself.segment_len = segment_len\n",
        "\t\n",
        "\t\t# Load the mapping from speaker name to their corresponding id. \n",
        "\t\tmapping_path = Path(data_dir) / \"mapping.json\"\n",
        "\t\tmapping = json.load(mapping_path.open())\n",
        "\t\tself.speaker2id = mapping[\"speaker2id\"]\n",
        "\t\n",
        "\t\t# Load metadata of training data.\n",
        "\t\tmetadata_path = Path(data_dir) / \"metadata.json\"\n",
        "\t\tmetadata = json.load(open(metadata_path))[\"speakers\"]\n",
        "\t\n",
        "\t\t# Get the total number of speaker.\n",
        "\t\tself.speaker_num = len(metadata.keys())\n",
        "\t\tself.data = []\n",
        "\t\tfor speaker in metadata.keys():\n",
        "\t\t\tfor utterances in metadata[speaker]:\n",
        "\t\t\t\tself.data.append([utterances[\"feature_path\"], self.speaker2id[speaker]])\n",
        " \n",
        "\tdef __len__(self):\n",
        "\t\treturn len(self.data)\n",
        " \n",
        "\tdef __getitem__(self, index):\n",
        "\t\tfeat_path, speaker = self.data[index]\n",
        "\t\t# Load preprocessed mel-spectrogram.\n",
        "\t\tmel = torch.load(os.path.join(self.data_dir, feat_path))\n",
        "\n",
        "\t\t# Segmemt mel-spectrogram into \"segment_len\" frames.\n",
        "\t\tif len(mel) > self.segment_len:\n",
        "\t\t\t# Randomly get the starting point of the segment.\n",
        "\t\t\tstart = random.randint(0, len(mel) - self.segment_len)\n",
        "\t\t\t# Get a segment with \"segment_len\" frames.\n",
        "\t\t\tmel = torch.FloatTensor(mel[start:start+self.segment_len])\n",
        "\t\telse:\n",
        "\t\t\tmel = torch.FloatTensor(mel)\n",
        "\t\t# Turn the speaker id into long for computing loss later.\n",
        "\t\tspeaker = torch.FloatTensor([speaker]).long()\n",
        "\t\treturn mel, speaker\n",
        " \n",
        "\tdef get_speaker_number(self):\n",
        "\t\treturn self.speaker_num"
      ]
    },
    {
      "cell_type": "markdown",
      "metadata": {
        "id": "668hverTMlGN"
      },
      "source": [
        "## Dataloader\n",
        "- Split dataset into training dataset(90%) and validation dataset(10%).\n",
        "- Create dataloader to iterate the data."
      ]
    },
    {
      "cell_type": "code",
      "execution_count": 4,
      "metadata": {
        "id": "B7c2gZYoJDRS"
      },
      "outputs": [],
      "source": [
        "import torch\n",
        "from torch.utils.data import DataLoader, random_split\n",
        "from torch.nn.utils.rnn import pad_sequence\n",
        "\n",
        "\n",
        "def collate_batch(batch):\n",
        "\t# Process features within a batch.\n",
        "\t\"\"\"Collate a batch of data.\"\"\"\n",
        "\tmel, speaker = zip(*batch)\n",
        "\tlengths = torch.FloatTensor([m.size(0) for m in mel])\n",
        "\t# Because we train the model batch by batch, we need to pad the features in the same batch to make their lengths the same.\n",
        "\tmel = pad_sequence(mel, batch_first=True, padding_value=-20)    # pad log 10^(-20) which is very small value.\n",
        "\t# mel: (batch size, length, 40)\n",
        "\treturn mel, lengths, torch.FloatTensor(speaker).long()\n",
        "\n",
        "\n",
        "def get_dataloader(data_dir, batch_size, n_workers):\n",
        "\t\"\"\"Generate dataloader\"\"\"\n",
        "\tdataset = myDataset(data_dir)\n",
        "\tspeaker_num = dataset.get_speaker_number()\n",
        "\t# Split dataset into training dataset and validation dataset\n",
        "\ttrainlen = int(0.9 * len(dataset))\n",
        "\tlengths = [trainlen, len(dataset) - trainlen]\n",
        "\ttrainset, validset = random_split(dataset, lengths)\n",
        "\n",
        "\ttrain_loader = DataLoader(\n",
        "\t\ttrainset,\n",
        "\t\tbatch_size=batch_size,\n",
        "\t\tshuffle=True,\n",
        "\t\tdrop_last=True,\n",
        "\t\tnum_workers=n_workers,\n",
        "\t\tpin_memory=True,\n",
        "\t\tcollate_fn=collate_batch,\n",
        "\t)\n",
        "\tvalid_loader = DataLoader(\n",
        "\t\tvalidset,\n",
        "\t\tbatch_size=batch_size,\n",
        "\t\tnum_workers=n_workers,\n",
        "\t\tdrop_last=True,\n",
        "\t\tpin_memory=True,\n",
        "\t\tcollate_fn=collate_batch,\n",
        "\t)\n",
        "\n",
        "\treturn train_loader, valid_loader, speaker_num"
      ]
    },
    {
      "cell_type": "markdown",
      "metadata": {
        "id": "5FOSZYxrMqhc"
      },
      "source": [
        "# Model\n",
        "- TransformerEncoderLayer:\n",
        "  - Base transformer encoder layer in [Attention Is All You Need](https://arxiv.org/abs/1706.03762)\n",
        "  - Parameters:\n",
        "    - d_model: the number of expected features of the input (required).\n",
        "\n",
        "    - nhead: the number of heads of the multiheadattention models (required).\n",
        "\n",
        "    - dim_feedforward: the dimension of the feedforward network model (default=2048).\n",
        "\n",
        "    - dropout: the dropout value (default=0.1).\n",
        "\n",
        "    - activation: the activation function of intermediate layer, relu or gelu (default=relu).\n",
        "\n",
        "- TransformerEncoder:\n",
        "  - TransformerEncoder is a stack of N transformer encoder layers\n",
        "  - Parameters:\n",
        "    - encoder_layer: an instance of the TransformerEncoderLayer() class (required).\n",
        "\n",
        "    - num_layers: the number of sub-encoder-layers in the encoder (required).\n",
        "\n",
        "    - norm: the layer normalization component (optional)."
      ]
    },
    {
      "cell_type": "markdown",
      "metadata": {},
      "source": [
        "# AMSoftmaxLoss"
      ]
    },
    {
      "cell_type": "code",
      "execution_count": 5,
      "metadata": {},
      "outputs": [],
      "source": [
        "\n",
        "import torch\n",
        "import torch.nn as nn\n",
        "import torch.nn.functional as F\n",
        "\n",
        "\n",
        "class AdMSoftmaxLoss(nn.Module):\n",
        "\n",
        "    def __init__(self, embedding_dim, no_classes, scale = 30.0, margin=0.4):\n",
        "        '''\n",
        "        Additive Margin Softmax Loss\n",
        "\n",
        "\n",
        "        Attributes\n",
        "        ----------\n",
        "        embedding_dim : int \n",
        "            Dimension of the embedding vector\n",
        "        no_classes : int\n",
        "            Number of classes to be embedded\n",
        "        scale : float\n",
        "            Global scale factor\n",
        "        margin : float\n",
        "            Size of additive margin        \n",
        "        '''\n",
        "        super(AdMSoftmaxLoss, self).__init__()\n",
        "        self.scale = scale\n",
        "        self.margin = margin\n",
        "        self.embedding_dim = embedding_dim\n",
        "        self.no_classes = no_classes\n",
        "        self.embedding = nn.Embedding(no_classes, embedding_dim, max_norm=1)\n",
        "        self.loss = nn.CrossEntropyLoss()\n",
        "\n",
        "    def forward(self, x, labels=None):\n",
        "        '''\n",
        "        Input shape (N, embedding_dim)\n",
        "        '''\n",
        "        n, m = x.shape        \n",
        "        assert m == self.embedding_dim\n",
        "        if labels != None:\n",
        "            assert n == len(labels)\n",
        "            assert torch.min(labels) >= 0\n",
        "            assert torch.max(labels) < self.no_classes\n",
        "\n",
        "        x = F.normalize(x, dim=1)\n",
        "        w = self.embedding.weight        \n",
        "        cos_theta = torch.matmul(w, x.T).T\n",
        "        psi = cos_theta - self.margin\n",
        "\n",
        "        logits = None\n",
        "        err = None  \n",
        "        if labels != None:    \n",
        "            onehot = F.one_hot(labels, self.no_classes)\n",
        "            logits = self.scale * torch.where(onehot == 1, psi, cos_theta)  \n",
        "            err = self.loss(logits, labels)\n",
        "        else:\n",
        "            logits = cos_theta\n",
        "        \n",
        "        return logits, err"
      ]
    },
    {
      "cell_type": "markdown",
      "metadata": {},
      "source": [
        "# Self-Attention Pooling"
      ]
    },
    {
      "cell_type": "code",
      "execution_count": 6,
      "metadata": {},
      "outputs": [],
      "source": [
        "import torch\n",
        "from torch import nn\n",
        "\n",
        "\n",
        "class SelfAttentionPooling(nn.Module):\n",
        "    \"\"\"\n",
        "    Implementation of SelfAttentionPooling \n",
        "    Original Paper: Self-Attention Encoding and Pooling for Speaker Recognition\n",
        "    https://arxiv.org/pdf/2008.01077v1.pdf\n",
        "    \"\"\"\n",
        "    def __init__(self, input_dim):\n",
        "        super(SelfAttentionPooling, self).__init__()\n",
        "        self.W = nn.Linear(input_dim, 1)\n",
        "        \n",
        "    def forward(self, batch_rep):\n",
        "        \"\"\"\n",
        "        input:\n",
        "            batch_rep : size (N, T, H), N: batch size, T: sequence length, H: Hidden dimension\n",
        "        \n",
        "        attention_weight:\n",
        "            att_w : size (N, T, 1)\n",
        "        \n",
        "        return:\n",
        "            utter_rep: size (N, H)\n",
        "        \"\"\"\n",
        "        softmax = nn.functional.softmax\n",
        "        att_w = softmax(self.W(batch_rep).squeeze(-1)).unsqueeze(-1)\n",
        "        utter_rep = torch.sum(batch_rep * att_w, dim=1)\n",
        "\n",
        "        return utter_rep"
      ]
    },
    {
      "cell_type": "code",
      "execution_count": 7,
      "metadata": {
        "id": "iXZ5B0EKJGs8"
      },
      "outputs": [],
      "source": [
        "import torch\n",
        "import torch.nn as nn\n",
        "import torch.nn.functional as F\n",
        "import torchaudio.models as models\n",
        "\n",
        "\n",
        "class Classifier(nn.Module):\n",
        "\tdef __init__(self, d_model=300, n_spks=600, dropout=0.15):\n",
        "\t\tsuper().__init__()\n",
        "\t\t# Project the dimension of features from that of input into d_model.\n",
        "\t\tself.prenet = nn.Linear(40, d_model)\n",
        "\t\t# TODO:\n",
        "\t\t#   Change Transformer to Conformer.\n",
        "\t\t#   https://arxiv.org/abs/2005.08100\n",
        "\t\t# self.encoder_layer = nn.TransformerEncoderLayer(\n",
        "\t\t# \td_model=d_model, dim_feedforward=4*d_model, nhead=4, dropout=dropout\n",
        "\t\t# )\n",
        "\t\t# self.encoder = nn.TransformerEncoder(self.encoder_layer, num_layers=4)\n",
        "\t\tself.encoder = models.Conformer(input_dim=d_model, num_heads=6, ffn_dim=4*d_model, num_layers=8, depthwise_conv_kernel_size=31, dropout=dropout)\n",
        "\n",
        "\t\tself.pooling = SelfAttentionPooling(d_model)\n",
        "\n",
        "\t\t# Project the the dimension of features from d_model into speaker nums.\n",
        "\t\tself.pred_layer = nn.Sequential(\n",
        "\t\t\tnn.Linear(d_model, 4*d_model),\n",
        "\t\t\tnn.BatchNorm1d(4*d_model),\n",
        "\t\t\tnn.ReLU(),\n",
        "\t\t)\n",
        "\t\tself.loss = AdMSoftmaxLoss(embedding_dim=4*d_model, no_classes=n_spks, scale=1, margin=0.4)\n",
        "\n",
        "\tdef forward(self, mels, lengths, labels=None):\n",
        "\t\t\"\"\"\n",
        "\t\targs:\n",
        "\t\t\tmels: (batch size, length, 40)\n",
        "\t\treturn:\n",
        "\t\t\tout: (batch size, n_spks)\n",
        "\t\t\"\"\"\n",
        "\t\t# out: (batch size, length, d_model)\n",
        "\t\tout = self.prenet(mels)\n",
        "\t\t# # out: (length, batch size, d_model)\n",
        "\t\t# out = out.permute(1, 0, 2)\n",
        "\t\t# The encoder layer expect features in the shape of (length, batch size, d_model).\n",
        "\t\tout, _ = self.encoder(out, lengths)\n",
        "\t\t# # out: (batch size, length, d_model)\n",
        "\t\t# out = out.transpose(0, 1)\n",
        "\t\t# mean pooling\n",
        "\t\t# stats = out.mean(dim=1)\n",
        "\t\tstats = self.pooling(out)\n",
        "\n",
        "\t\t# out: (batch, n_spks)\n",
        "\t\tout = self.pred_layer(stats)\n",
        "\t\tlogits, err = self.loss(out, labels)\n",
        "\n",
        "\t\treturn logits, err"
      ]
    },
    {
      "cell_type": "markdown",
      "metadata": {
        "id": "W7yX8JinM5Ly"
      },
      "source": [
        "# Learning rate schedule\n",
        "- For transformer architecture, the design of learning rate schedule is different from that of CNN.\n",
        "- Previous works show that the warmup of learning rate is useful for training models with transformer architectures.\n",
        "- The warmup schedule\n",
        "  - Set learning rate to 0 in the beginning.\n",
        "  - The learning rate increases linearly from 0 to initial learning rate during warmup period."
      ]
    },
    {
      "cell_type": "code",
      "execution_count": 8,
      "metadata": {
        "id": "ykt0N1nVJJi2"
      },
      "outputs": [],
      "source": [
        "import math\n",
        "\n",
        "import torch\n",
        "from torch.optim import Optimizer\n",
        "from torch.optim.lr_scheduler import LambdaLR\n",
        "\n",
        "\n",
        "def get_cosine_schedule_with_warmup(\n",
        "\toptimizer: Optimizer,\n",
        "\tnum_warmup_steps: int,\n",
        "\tnum_training_steps: int,\n",
        "\tnum_cycles: float = 0.5,\n",
        "\tlast_epoch: int = -1,\n",
        "):\n",
        "\t\"\"\"\n",
        "\tCreate a schedule with a learning rate that decreases following the values of the cosine function between the\n",
        "\tinitial lr set in the optimizer to 0, after a warmup period during which it increases linearly between 0 and the\n",
        "\tinitial lr set in the optimizer.\n",
        "\n",
        "\tArgs:\n",
        "\t\toptimizer (:class:`~torch.optim.Optimizer`):\n",
        "\t\tThe optimizer for which to schedule the learning rate.\n",
        "\t\tnum_warmup_steps (:obj:`int`):\n",
        "\t\tThe number of steps for the warmup phase.\n",
        "\t\tnum_training_steps (:obj:`int`):\n",
        "\t\tThe total number of training steps.\n",
        "\t\tnum_cycles (:obj:`float`, `optional`, defaults to 0.5):\n",
        "\t\tThe number of waves in the cosine schedule (the defaults is to just decrease from the max value to 0\n",
        "\t\tfollowing a half-cosine).\n",
        "\t\tlast_epoch (:obj:`int`, `optional`, defaults to -1):\n",
        "\t\tThe index of the last epoch when resuming training.\n",
        "\n",
        "\tReturn:\n",
        "\t\t:obj:`torch.optim.lr_scheduler.LambdaLR` with the appropriate schedule.\n",
        "\t\"\"\"\n",
        "\tdef lr_lambda(current_step):\n",
        "\t\t# Warmup\n",
        "\t\tif current_step < num_warmup_steps:\n",
        "\t\t\treturn float(current_step) / float(max(1, num_warmup_steps))\n",
        "\t\t# decadence\n",
        "\t\tprogress = float(current_step - num_warmup_steps) / float(\n",
        "\t\t\tmax(1, num_training_steps - num_warmup_steps)\n",
        "\t\t)\n",
        "\t\treturn max(\n",
        "\t\t\t0.0, 0.5 * (1.0 + math.cos(math.pi * float(num_cycles) * 2.0 * progress))\n",
        "\t\t)\n",
        "\n",
        "\treturn LambdaLR(optimizer, lr_lambda, last_epoch)"
      ]
    },
    {
      "cell_type": "markdown",
      "metadata": {
        "id": "-LN2XkteM_uH"
      },
      "source": [
        "# Model Function\n",
        "- Model forward function."
      ]
    },
    {
      "cell_type": "code",
      "execution_count": 9,
      "metadata": {
        "id": "N-rr8529JMz0"
      },
      "outputs": [],
      "source": [
        "import torch\n",
        "\n",
        "\n",
        "# def model_fn(batch, model, criterion, device):\n",
        "# \t\"\"\"Forward a batch through the model.\"\"\"\n",
        "\n",
        "# \tmels, lengths, labels = batch\n",
        "# \tmels = mels.to(device)\n",
        "# \tlengths = lengths.to(device)\n",
        "# \tlabels = labels.to(device)\n",
        "\n",
        "# \touts = model(mels, lengths)\n",
        "\n",
        "# \tloss = criterion(outs, labels)\n",
        "\n",
        "# \t# Get the speaker id with highest probability.\n",
        "# \tpreds = outs.argmax(1)\n",
        "# \t# Compute accuracy.\n",
        "# \taccuracy = torch.mean((preds == labels).float())\n",
        "\n",
        "# \treturn loss, accuracy\n",
        "\n",
        "def model_fn(batch, model, device):\n",
        "\t\"\"\"Forward a batch through the model.\"\"\"\n",
        "\n",
        "\tmels, lengths, labels = batch\n",
        "\tmels = mels.to(device)\n",
        "\tlengths = lengths.to(device)\n",
        "\tlabels = labels.to(device)\n",
        "\n",
        "\touts, loss = model(mels, lengths, labels)\n",
        "\n",
        "\t# Get the speaker id with highest probability.\n",
        "\tpreds = outs.argmax(1)\n",
        "\t# Compute accuracy.\n",
        "\taccuracy = torch.mean((preds == labels).float())\n",
        "\n",
        "\treturn loss, accuracy"
      ]
    },
    {
      "cell_type": "markdown",
      "metadata": {
        "id": "cwM_xyOtNCI2"
      },
      "source": [
        "# Validate\n",
        "- Calculate accuracy of the validation set."
      ]
    },
    {
      "cell_type": "code",
      "execution_count": 10,
      "metadata": {
        "id": "YAiv6kpdJRTJ"
      },
      "outputs": [],
      "source": [
        "from tqdm import tqdm\n",
        "import torch\n",
        "\n",
        "\n",
        "# def valid(dataloader, model, criterion, device): \n",
        "# \t\"\"\"Validate on validation set.\"\"\"\n",
        "\n",
        "# \tmodel.eval()\n",
        "# \trunning_loss = 0.0\n",
        "# \trunning_accuracy = 0.0\n",
        "# \tpbar = tqdm(total=len(dataloader.dataset), ncols=0, desc=\"Valid\", unit=\" uttr\")\n",
        "\n",
        "# \tfor i, batch in enumerate(dataloader):\n",
        "# \t\twith torch.no_grad():\n",
        "# \t\t\tloss, accuracy = model_fn(batch, model, criterion, device)\n",
        "# \t\t\trunning_loss += loss.item()\n",
        "# \t\t\trunning_accuracy += accuracy.item()\n",
        "\n",
        "# \t\tpbar.update(dataloader.batch_size)\n",
        "# \t\tpbar.set_postfix(\n",
        "# \t\t\tloss=f\"{running_loss / (i+1):.2f}\",\n",
        "# \t\t\taccuracy=f\"{running_accuracy / (i+1):.2f}\",\n",
        "# \t\t)\n",
        "\n",
        "# \tpbar.close()\n",
        "# \tmodel.train()\n",
        "\n",
        "# \treturn running_accuracy / len(dataloader)\n",
        "\n",
        "def valid(dataloader, model, device): \n",
        "\t\"\"\"Validate on validation set.\"\"\"\n",
        "\n",
        "\tmodel.eval()\n",
        "\trunning_loss = 0.0\n",
        "\trunning_accuracy = 0.0\n",
        "\tpbar = tqdm(total=len(dataloader.dataset), ncols=0, desc=\"Valid\", unit=\" uttr\")\n",
        "\n",
        "\tfor i, batch in enumerate(dataloader):\n",
        "\t\twith torch.no_grad():\n",
        "\t\t\tloss, accuracy = model_fn(batch, model, device)\n",
        "\t\t\trunning_loss += loss.item()\n",
        "\t\t\trunning_accuracy += accuracy.item()\n",
        "\n",
        "\t\tpbar.update(dataloader.batch_size)\n",
        "\t\tpbar.set_postfix(\n",
        "\t\t\tloss=f\"{running_loss / (i+1):.2f}\",\n",
        "\t\t\taccuracy=f\"{running_accuracy / (i+1):.2f}\",\n",
        "\t\t)\n",
        "\n",
        "\tpbar.close()\n",
        "\tmodel.train()\n",
        "\n",
        "\treturn running_accuracy / len(dataloader)"
      ]
    },
    {
      "cell_type": "markdown",
      "metadata": {
        "id": "g6ne9G-eNEdG"
      },
      "source": [
        "# Main function"
      ]
    },
    {
      "cell_type": "code",
      "execution_count": null,
      "metadata": {
        "id": "Usv9s-CuJSG7"
      },
      "outputs": [
        {
          "name": "stdout",
          "output_type": "stream",
          "text": [
            "[Info]: Use cuda now!\n",
            "[Info]: Finish loading data!\n",
            "[Info]: Finish creating model!\n"
          ]
        },
        {
          "name": "stderr",
          "output_type": "stream",
          "text": [
            "Train:   0% 0/2000 [00:00<?, ? step/s]/tmp/ipykernel_6656/2003241190.py:27: UserWarning: Implicit dimension choice for softmax has been deprecated. Change the call to include dim=X as an argument.\n",
            "  att_w = softmax(self.W(batch_rep).squeeze(-1)).unsqueeze(-1)\n",
            "Train: 100% 2000/2000 [02:54<00:00, 11.49 step/s, accuracy=0.12, loss=4.68, step=2000]\n",
            "Valid: 100% 5664/5667 [00:05<00:00, 1029.33 uttr/s, accuracy=0.08, loss=5.08]\n",
            "Train: 100% 2000/2000 [02:55<00:00, 11.37 step/s, accuracy=0.16, loss=4.39, step=4000]\n",
            "Valid: 100% 5664/5667 [00:05<00:00, 1074.72 uttr/s, accuracy=0.17, loss=4.31]\n",
            "Train: 100% 2000/2000 [02:58<00:00, 11.19 step/s, accuracy=0.19, loss=3.55, step=6000]\n",
            "Valid: 100% 5664/5667 [00:05<00:00, 1068.80 uttr/s, accuracy=0.27, loss=3.59]\n",
            "Train: 100% 2000/2000 [02:51<00:00, 11.66 step/s, accuracy=0.50, loss=1.90, step=8000]\n",
            "Valid: 100% 5664/5667 [00:04<00:00, 1135.58 uttr/s, accuracy=0.38, loss=2.88]\n",
            "Train: 100% 2000/2000 [02:59<00:00, 11.14 step/s, accuracy=0.62, loss=1.85, step=1e+4]\n",
            "Valid: 100% 5664/5667 [00:05<00:00, 1072.53 uttr/s, accuracy=0.53, loss=2.12]\n",
            "Train:   0% 2/2000 [00:00<05:51,  5.69 step/s, accuracy=0.69, loss=1.52, step=1e+4]"
          ]
        },
        {
          "name": "stdout",
          "output_type": "stream",
          "text": [
            "Step 10000, best model saved. (accuracy=0.5337)\n"
          ]
        },
        {
          "name": "stderr",
          "output_type": "stream",
          "text": [
            "Train: 100% 2000/2000 [02:54<00:00, 11.47 step/s, accuracy=0.69, loss=1.51, step=12000]\n",
            "Valid: 100% 5664/5667 [00:05<00:00, 1128.08 uttr/s, accuracy=0.62, loss=1.70]\n",
            "Train: 100% 2000/2000 [02:58<00:00, 11.22 step/s, accuracy=0.78, loss=1.03, step=14000]\n",
            "Valid: 100% 5664/5667 [00:05<00:00, 1083.12 uttr/s, accuracy=0.67, loss=1.44]\n",
            "Train: 100% 2000/2000 [02:57<00:00, 11.29 step/s, accuracy=0.62, loss=1.37, step=16000]\n",
            "Valid: 100% 5664/5667 [00:05<00:00, 1113.44 uttr/s, accuracy=0.73, loss=1.18]\n",
            "Train: 100% 2000/2000 [02:59<00:00, 11.14 step/s, accuracy=0.78, loss=0.89, step=18000]\n",
            "Valid: 100% 5664/5667 [00:05<00:00, 999.27 uttr/s, accuracy=0.74, loss=1.15] \n",
            "Train: 100% 2000/2000 [02:54<00:00, 11.48 step/s, accuracy=0.81, loss=0.85, step=2e+4] \n",
            "Valid: 100% 5664/5667 [00:05<00:00, 1085.31 uttr/s, accuracy=0.77, loss=1.00]\n",
            "Train:   0% 2/2000 [00:00<06:08,  5.42 step/s, accuracy=0.91, loss=0.48, step=2e+4]"
          ]
        },
        {
          "name": "stdout",
          "output_type": "stream",
          "text": [
            "Step 20000, best model saved. (accuracy=0.7715)\n"
          ]
        },
        {
          "name": "stderr",
          "output_type": "stream",
          "text": [
            "Train: 100% 2000/2000 [02:59<00:00, 11.17 step/s, accuracy=0.88, loss=0.66, step=22000]\n",
            "Valid: 100% 5664/5667 [00:05<00:00, 1058.72 uttr/s, accuracy=0.78, loss=0.93]\n",
            "Train: 100% 2000/2000 [02:52<00:00, 11.60 step/s, accuracy=1.00, loss=0.20, step=24000]\n",
            "Valid: 100% 5664/5667 [00:04<00:00, 1150.50 uttr/s, accuracy=0.78, loss=0.96]\n",
            "Train: 100% 2000/2000 [02:51<00:00, 11.68 step/s, accuracy=0.97, loss=0.18, step=26000]\n",
            "Valid: 100% 5664/5667 [00:05<00:00, 1086.22 uttr/s, accuracy=0.81, loss=0.85]\n",
            "Train: 100% 2000/2000 [03:00<00:00, 11.08 step/s, accuracy=0.88, loss=0.66, step=28000]\n",
            "Valid: 100% 5664/5667 [00:05<00:00, 1090.88 uttr/s, accuracy=0.83, loss=0.75]\n",
            "Train: 100% 2000/2000 [02:54<00:00, 11.45 step/s, accuracy=0.84, loss=0.58, step=3e+4] \n",
            "Valid: 100% 5664/5667 [00:05<00:00, 1076.76 uttr/s, accuracy=0.81, loss=0.84]\n",
            "Train:   0% 2/2000 [00:00<06:42,  4.96 step/s, accuracy=0.81, loss=0.73, step=3e+4]"
          ]
        },
        {
          "name": "stdout",
          "output_type": "stream",
          "text": [
            "Step 30000, best model saved. (accuracy=0.8305)\n"
          ]
        },
        {
          "name": "stderr",
          "output_type": "stream",
          "text": [
            "Train: 100% 2000/2000 [02:59<00:00, 11.14 step/s, accuracy=0.91, loss=0.29, step=32000]\n",
            "Valid: 100% 5664/5667 [00:05<00:00, 1097.54 uttr/s, accuracy=0.83, loss=0.74]\n",
            "Train: 100% 2000/2000 [02:54<00:00, 11.46 step/s, accuracy=0.94, loss=0.34, step=34000]\n",
            "Valid: 100% 5664/5667 [00:05<00:00, 1090.05 uttr/s, accuracy=0.84, loss=0.70]\n",
            "Train: 100% 2000/2000 [02:59<00:00, 11.14 step/s, accuracy=0.97, loss=0.25, step=36000]\n",
            "Valid: 100% 5664/5667 [00:05<00:00, 1091.07 uttr/s, accuracy=0.83, loss=0.74]\n",
            "Train: 100% 2000/2000 [02:56<00:00, 11.36 step/s, accuracy=0.94, loss=0.35, step=38000]\n",
            "Valid: 100% 5664/5667 [00:05<00:00, 1006.77 uttr/s, accuracy=0.85, loss=0.67]\n",
            "Train: 100% 2000/2000 [02:58<00:00, 11.24 step/s, accuracy=0.94, loss=0.39, step=4e+4] \n",
            "Valid: 100% 5664/5667 [00:04<00:00, 1135.04 uttr/s, accuracy=0.84, loss=0.72]\n",
            "Train:   0% 2/2000 [00:00<06:18,  5.27 step/s, accuracy=0.94, loss=0.37, step=4e+4]"
          ]
        },
        {
          "name": "stdout",
          "output_type": "stream",
          "text": [
            "Step 40000, best model saved. (accuracy=0.8538)\n"
          ]
        },
        {
          "name": "stderr",
          "output_type": "stream",
          "text": [
            "Train: 100% 2000/2000 [02:59<00:00, 11.13 step/s, accuracy=0.94, loss=0.21, step=42000]\n",
            "Valid: 100% 5664/5667 [00:05<00:00, 1067.81 uttr/s, accuracy=0.85, loss=0.67]\n",
            "Train: 100% 2000/2000 [02:57<00:00, 11.26 step/s, accuracy=0.97, loss=0.11, step=44000]\n",
            "Valid: 100% 5664/5667 [00:05<00:00, 1087.99 uttr/s, accuracy=0.84, loss=0.71]\n",
            "Train: 100% 2000/2000 [03:01<00:00, 11.00 step/s, accuracy=0.94, loss=0.32, step=46000]\n",
            "Valid: 100% 5664/5667 [00:05<00:00, 1061.10 uttr/s, accuracy=0.85, loss=0.68]\n",
            "Train: 100% 2000/2000 [02:58<00:00, 11.18 step/s, accuracy=1.00, loss=0.13, step=48000]\n",
            "Valid: 100% 5664/5667 [00:05<00:00, 1072.17 uttr/s, accuracy=0.87, loss=0.58]\n",
            "Train: 100% 2000/2000 [02:59<00:00, 11.16 step/s, accuracy=0.91, loss=0.16, step=5e+4] \n",
            "Valid: 100% 5664/5667 [00:05<00:00, 1082.27 uttr/s, accuracy=0.85, loss=0.67]\n",
            "Train:   0% 2/2000 [00:00<06:06,  5.45 step/s, accuracy=0.94, loss=0.14, step=5e+4]"
          ]
        },
        {
          "name": "stdout",
          "output_type": "stream",
          "text": [
            "Step 50000, best model saved. (accuracy=0.8690)\n"
          ]
        },
        {
          "name": "stderr",
          "output_type": "stream",
          "text": [
            "Train: 100% 2000/2000 [03:00<00:00, 11.10 step/s, accuracy=0.97, loss=0.15, step=52000]\n",
            "Valid: 100% 5664/5667 [00:05<00:00, 1076.69 uttr/s, accuracy=0.87, loss=0.60]\n",
            "Train: 100% 2000/2000 [02:57<00:00, 11.29 step/s, accuracy=0.94, loss=0.30, step=54000]\n",
            "Valid: 100% 5664/5667 [00:05<00:00, 1086.60 uttr/s, accuracy=0.87, loss=0.58]\n",
            "Train: 100% 2000/2000 [02:57<00:00, 11.27 step/s, accuracy=0.94, loss=0.22, step=56000]\n",
            "Valid: 100% 5664/5667 [00:05<00:00, 1080.47 uttr/s, accuracy=0.88, loss=0.55]\n",
            "Train: 100% 2000/2000 [02:59<00:00, 11.13 step/s, accuracy=1.00, loss=0.02, step=58000]\n",
            "Valid: 100% 5664/5667 [00:05<00:00, 1085.87 uttr/s, accuracy=0.87, loss=0.60]\n",
            "Train: 100% 2000/2000 [02:58<00:00, 11.22 step/s, accuracy=0.91, loss=0.25, step=6e+4] \n",
            "Valid: 100% 5664/5667 [00:05<00:00, 1072.19 uttr/s, accuracy=0.86, loss=0.63]\n",
            "Train:   0% 2/2000 [00:00<07:35,  4.38 step/s, accuracy=0.91, loss=0.31, step=6e+4]"
          ]
        },
        {
          "name": "stdout",
          "output_type": "stream",
          "text": [
            "Step 60000, best model saved. (accuracy=0.8771)\n"
          ]
        },
        {
          "name": "stderr",
          "output_type": "stream",
          "text": [
            "Train: 100% 2000/2000 [02:58<00:00, 11.19 step/s, accuracy=0.94, loss=0.27, step=62000]\n",
            "Valid: 100% 5664/5667 [00:05<00:00, 1004.99 uttr/s, accuracy=0.88, loss=0.56]\n",
            "Train: 100% 2000/2000 [02:51<00:00, 11.69 step/s, accuracy=0.88, loss=0.45, step=64000]\n",
            "Valid: 100% 5664/5667 [00:05<00:00, 1084.85 uttr/s, accuracy=0.88, loss=0.57]\n",
            "Train: 100% 2000/2000 [02:59<00:00, 11.16 step/s, accuracy=1.00, loss=0.02, step=66000]\n",
            "Valid: 100% 5664/5667 [00:05<00:00, 1089.20 uttr/s, accuracy=0.87, loss=0.59]\n",
            "Train: 100% 2000/2000 [02:53<00:00, 11.50 step/s, accuracy=1.00, loss=0.03, step=68000]\n",
            "Valid: 100% 5664/5667 [00:05<00:00, 1083.79 uttr/s, accuracy=0.87, loss=0.61]\n",
            "Train: 100% 2000/2000 [02:59<00:00, 11.13 step/s, accuracy=0.97, loss=0.12, step=7e+4] \n",
            "Valid: 100% 5664/5667 [00:05<00:00, 1079.71 uttr/s, accuracy=0.88, loss=0.52]\n",
            "Train:   0% 2/2000 [00:00<06:15,  5.31 step/s, accuracy=0.91, loss=0.20, step=7e+4]"
          ]
        },
        {
          "name": "stdout",
          "output_type": "stream",
          "text": [
            "Step 70000, best model saved. (accuracy=0.8844)\n"
          ]
        },
        {
          "name": "stderr",
          "output_type": "stream",
          "text": [
            "Train: 100% 2000/2000 [02:55<00:00, 11.41 step/s, accuracy=1.00, loss=0.04, step=72000]\n",
            "Valid: 100% 5664/5667 [00:05<00:00, 1095.40 uttr/s, accuracy=0.89, loss=0.53]\n",
            "Train: 100% 2000/2000 [02:59<00:00, 11.14 step/s, accuracy=0.97, loss=0.13, step=74000]\n",
            "Valid: 100% 5664/5667 [00:05<00:00, 1085.65 uttr/s, accuracy=0.88, loss=0.52]\n",
            "Train: 100% 2000/2000 [02:56<00:00, 11.33 step/s, accuracy=1.00, loss=0.05, step=76000]\n",
            "Valid: 100% 5664/5667 [00:05<00:00, 1088.43 uttr/s, accuracy=0.89, loss=0.55]\n",
            "Train: 100% 2000/2000 [02:58<00:00, 11.23 step/s, accuracy=0.97, loss=0.13, step=78000]\n",
            "Valid: 100% 5664/5667 [00:05<00:00, 1112.40 uttr/s, accuracy=0.89, loss=0.52]\n",
            "Train: 100% 2000/2000 [02:59<00:00, 11.13 step/s, accuracy=0.94, loss=0.12, step=8e+4] \n",
            "Valid: 100% 5664/5667 [00:05<00:00, 1077.88 uttr/s, accuracy=0.89, loss=0.53]\n",
            "Train:   0% 2/2000 [00:00<06:02,  5.51 step/s, accuracy=0.94, loss=0.12, step=8e+4]"
          ]
        },
        {
          "name": "stdout",
          "output_type": "stream",
          "text": [
            "Step 80000, best model saved. (accuracy=0.8911)\n"
          ]
        },
        {
          "name": "stderr",
          "output_type": "stream",
          "text": [
            "Train: 100% 2000/2000 [02:57<00:00, 11.26 step/s, accuracy=0.97, loss=0.15, step=82000]\n",
            "Valid: 100% 5664/5667 [00:05<00:00, 1079.55 uttr/s, accuracy=0.88, loss=0.57]\n",
            "Train: 100% 2000/2000 [03:00<00:00, 11.11 step/s, accuracy=0.94, loss=0.20, step=84000]\n",
            "Valid: 100% 5664/5667 [00:05<00:00, 1074.75 uttr/s, accuracy=0.88, loss=0.54]\n",
            "Train: 100% 2000/2000 [02:58<00:00, 11.21 step/s, accuracy=1.00, loss=0.02, step=86000]\n",
            "Valid: 100% 5664/5667 [00:05<00:00, 1082.80 uttr/s, accuracy=0.89, loss=0.51]\n",
            "Train: 100% 2000/2000 [02:56<00:00, 11.31 step/s, accuracy=0.97, loss=0.06, step=88000]\n",
            "Valid: 100% 5664/5667 [00:05<00:00, 1128.36 uttr/s, accuracy=0.89, loss=0.52]\n",
            "Train: 100% 2000/2000 [02:55<00:00, 11.39 step/s, accuracy=0.94, loss=0.23, step=9e+4] \n",
            "Valid: 100% 5664/5667 [00:05<00:00, 1087.51 uttr/s, accuracy=0.90, loss=0.49]\n",
            "Train:   0% 2/2000 [00:00<06:06,  5.45 step/s, accuracy=1.00, loss=0.05, step=9e+4]"
          ]
        },
        {
          "name": "stdout",
          "output_type": "stream",
          "text": [
            "Step 90000, best model saved. (accuracy=0.8995)\n"
          ]
        },
        {
          "name": "stderr",
          "output_type": "stream",
          "text": [
            "Train: 100% 2000/2000 [02:58<00:00, 11.19 step/s, accuracy=0.97, loss=0.10, step=92000]\n",
            "Valid: 100% 5664/5667 [00:04<00:00, 1149.60 uttr/s, accuracy=0.88, loss=0.57]\n",
            "Train: 100% 2000/2000 [02:55<00:00, 11.37 step/s, accuracy=1.00, loss=0.03, step=94000]\n",
            "Valid: 100% 5664/5667 [00:05<00:00, 1072.84 uttr/s, accuracy=0.89, loss=0.52]\n",
            "Train: 100% 2000/2000 [02:59<00:00, 11.15 step/s, accuracy=1.00, loss=0.08, step=96000]\n",
            "Valid: 100% 5664/5667 [00:04<00:00, 1150.00 uttr/s, accuracy=0.89, loss=0.51]\n",
            "Train: 100% 2000/2000 [02:55<00:00, 11.37 step/s, accuracy=0.97, loss=0.18, step=98000]\n",
            "Valid: 100% 5664/5667 [00:05<00:00, 1090.44 uttr/s, accuracy=0.89, loss=0.49]\n",
            "Train: 100% 2000/2000 [02:57<00:00, 11.27 step/s, accuracy=0.97, loss=0.05, step=1e+5] \n",
            "Valid: 100% 5664/5667 [00:04<00:00, 1136.00 uttr/s, accuracy=0.90, loss=0.50]\n",
            "Train:   0% 2/2000 [00:00<06:03,  5.50 step/s, accuracy=0.94, loss=0.12, step=1e+5]"
          ]
        },
        {
          "name": "stdout",
          "output_type": "stream",
          "text": [
            "Step 100000, best model saved. (accuracy=0.8995)\n"
          ]
        },
        {
          "name": "stderr",
          "output_type": "stream",
          "text": [
            "Train: 100% 2000/2000 [02:57<00:00, 11.24 step/s, accuracy=0.97, loss=0.07, step=102000]\n",
            "Valid: 100% 5664/5667 [00:05<00:00, 1094.59 uttr/s, accuracy=0.90, loss=0.49]\n",
            "Train: 100% 2000/2000 [02:56<00:00, 11.32 step/s, accuracy=0.97, loss=0.08, step=104000]\n",
            "Valid: 100% 5664/5667 [00:05<00:00, 1088.41 uttr/s, accuracy=0.90, loss=0.46]\n",
            "Train: 100% 2000/2000 [02:59<00:00, 11.17 step/s, accuracy=1.00, loss=0.05, step=106000]\n",
            "Valid: 100% 5664/5667 [00:05<00:00, 1084.46 uttr/s, accuracy=0.89, loss=0.51]\n",
            "Train: 100% 2000/2000 [02:56<00:00, 11.31 step/s, accuracy=0.97, loss=0.10, step=108000]\n",
            "Valid: 100% 5664/5667 [00:05<00:00, 1087.68 uttr/s, accuracy=0.89, loss=0.49]\n",
            "Train: 100% 2000/2000 [02:58<00:00, 11.19 step/s, accuracy=0.94, loss=0.26, step=110000]\n",
            "Valid: 100% 5664/5667 [00:05<00:00, 1128.17 uttr/s, accuracy=0.89, loss=0.53]\n",
            "Train:   0% 2/2000 [00:00<06:38,  5.01 step/s, accuracy=1.00, loss=0.01, step=110002]"
          ]
        },
        {
          "name": "stdout",
          "output_type": "stream",
          "text": [
            "Step 110000, best model saved. (accuracy=0.8995)\n"
          ]
        },
        {
          "name": "stderr",
          "output_type": "stream",
          "text": [
            "Train: 100% 2000/2000 [03:01<00:00, 11.05 step/s, accuracy=1.00, loss=0.01, step=112000]\n",
            "Valid: 100% 5664/5667 [00:05<00:00, 1081.70 uttr/s, accuracy=0.90, loss=0.48]\n",
            "Train: 100% 2000/2000 [02:54<00:00, 11.43 step/s, accuracy=0.94, loss=0.21, step=114000]\n",
            "Valid: 100% 5664/5667 [00:04<00:00, 1141.17 uttr/s, accuracy=0.90, loss=0.49]\n",
            "Train: 100% 2000/2000 [02:58<00:00, 11.18 step/s, accuracy=1.00, loss=0.05, step=116000]\n",
            "Valid: 100% 5664/5667 [00:05<00:00, 1095.27 uttr/s, accuracy=0.91, loss=0.46]\n",
            "Train: 100% 2000/2000 [02:55<00:00, 11.37 step/s, accuracy=1.00, loss=0.04, step=118000]\n",
            "Valid: 100% 5664/5667 [00:04<00:00, 1142.48 uttr/s, accuracy=0.90, loss=0.48]\n",
            "Train: 100% 2000/2000 [02:58<00:00, 11.23 step/s, accuracy=1.00, loss=0.06, step=120000]\n",
            "Valid: 100% 5664/5667 [00:05<00:00, 1089.50 uttr/s, accuracy=0.90, loss=0.49]\n",
            "Train:   0% 2/2000 [00:00<06:05,  5.46 step/s, accuracy=1.00, loss=0.05, step=120002]"
          ]
        },
        {
          "name": "stdout",
          "output_type": "stream",
          "text": [
            "Step 120000, best model saved. (accuracy=0.9061)\n"
          ]
        },
        {
          "name": "stderr",
          "output_type": "stream",
          "text": [
            "Train: 100% 2000/2000 [02:54<00:00, 11.46 step/s, accuracy=0.97, loss=0.11, step=122000]\n",
            "Valid: 100% 5664/5667 [00:05<00:00, 1116.79 uttr/s, accuracy=0.90, loss=0.48]\n",
            "Train: 100% 2000/2000 [02:59<00:00, 11.16 step/s, accuracy=0.97, loss=0.07, step=124000]\n",
            "Valid: 100% 5664/5667 [00:05<00:00, 1092.64 uttr/s, accuracy=0.91, loss=0.44]\n",
            "Train: 100% 2000/2000 [02:55<00:00, 11.41 step/s, accuracy=1.00, loss=0.01, step=126000]\n",
            "Valid: 100% 5664/5667 [00:05<00:00, 1078.88 uttr/s, accuracy=0.89, loss=0.52]\n",
            "Train: 100% 2000/2000 [02:59<00:00, 11.12 step/s, accuracy=1.00, loss=0.04, step=128000]\n",
            "Valid: 100% 5664/5667 [00:05<00:00, 1086.92 uttr/s, accuracy=0.90, loss=0.47]\n",
            "Train: 100% 2000/2000 [02:56<00:00, 11.31 step/s, accuracy=1.00, loss=0.03, step=130000]\n",
            "Valid: 100% 5664/5667 [00:05<00:00, 1086.17 uttr/s, accuracy=0.90, loss=0.47]\n",
            "Train:   0% 2/2000 [00:00<06:56,  4.79 step/s, accuracy=0.97, loss=0.17, step=130002]"
          ]
        },
        {
          "name": "stdout",
          "output_type": "stream",
          "text": [
            "Step 130000, best model saved. (accuracy=0.9108)\n"
          ]
        },
        {
          "name": "stderr",
          "output_type": "stream",
          "text": [
            "Train: 100% 2000/2000 [02:57<00:00, 11.27 step/s, accuracy=1.00, loss=0.03, step=132000]\n",
            "Valid: 100% 5664/5667 [00:04<00:00, 1143.10 uttr/s, accuracy=0.91, loss=0.46]\n",
            "Train: 100% 2000/2000 [02:59<00:00, 11.15 step/s, accuracy=0.97, loss=0.09, step=134000]\n",
            "Valid: 100% 5664/5667 [00:05<00:00, 1090.60 uttr/s, accuracy=0.91, loss=0.45]\n",
            "Train: 100% 2000/2000 [02:53<00:00, 11.50 step/s, accuracy=1.00, loss=0.01, step=136000]\n",
            "Valid: 100% 5664/5667 [00:04<00:00, 1142.51 uttr/s, accuracy=0.89, loss=0.53]\n",
            "Train: 100% 2000/2000 [02:58<00:00, 11.22 step/s, accuracy=1.00, loss=0.01, step=138000]\n",
            "Valid: 100% 5664/5667 [00:05<00:00, 1089.35 uttr/s, accuracy=0.90, loss=0.48]\n",
            "Train: 100% 2000/2000 [02:56<00:00, 11.33 step/s, accuracy=1.00, loss=0.01, step=140000]\n",
            "Valid: 100% 5664/5667 [00:04<00:00, 1136.18 uttr/s, accuracy=0.91, loss=0.45]\n",
            "Train:   0% 2/2000 [00:00<06:20,  5.25 step/s, accuracy=1.00, loss=0.04, step=140002]"
          ]
        },
        {
          "name": "stdout",
          "output_type": "stream",
          "text": [
            "Step 140000, best model saved. (accuracy=0.9108)\n"
          ]
        },
        {
          "name": "stderr",
          "output_type": "stream",
          "text": [
            "Train: 100% 2000/2000 [02:57<00:00, 11.26 step/s, accuracy=1.00, loss=0.01, step=142000]\n",
            "Valid: 100% 5664/5667 [00:05<00:00, 1097.60 uttr/s, accuracy=0.90, loss=0.49]\n",
            "Train: 100% 2000/2000 [02:55<00:00, 11.39 step/s, accuracy=0.97, loss=0.12, step=144000]\n",
            "Valid: 100% 5664/5667 [00:04<00:00, 1135.70 uttr/s, accuracy=0.90, loss=0.50]\n",
            "Train: 100% 2000/2000 [02:58<00:00, 11.21 step/s, accuracy=1.00, loss=0.00, step=146000]\n",
            "Valid: 100% 5664/5667 [00:05<00:00, 1090.88 uttr/s, accuracy=0.91, loss=0.45]\n",
            "Train: 100% 2000/2000 [02:56<00:00, 11.32 step/s, accuracy=0.97, loss=0.07, step=148000]\n",
            "Valid: 100% 5664/5667 [00:05<00:00, 1072.09 uttr/s, accuracy=0.91, loss=0.45]\n",
            "Train: 100% 2000/2000 [02:59<00:00, 11.13 step/s, accuracy=1.00, loss=0.01, step=150000]\n",
            "Valid: 100% 5664/5667 [00:05<00:00, 1091.37 uttr/s, accuracy=0.91, loss=0.43]\n",
            "Train:   0% 2/2000 [00:00<06:09,  5.41 step/s, accuracy=0.94, loss=0.13, step=150002]"
          ]
        },
        {
          "name": "stdout",
          "output_type": "stream",
          "text": [
            "Step 150000, best model saved. (accuracy=0.9114)\n"
          ]
        },
        {
          "name": "stderr",
          "output_type": "stream",
          "text": [
            "Train: 100% 2000/2000 [02:56<00:00, 11.33 step/s, accuracy=1.00, loss=0.01, step=152000]\n",
            "Valid: 100% 5664/5667 [00:05<00:00, 1096.23 uttr/s, accuracy=0.91, loss=0.46]\n",
            "Train: 100% 2000/2000 [02:57<00:00, 11.28 step/s, accuracy=0.94, loss=0.13, step=154000]\n",
            "Valid: 100% 5664/5667 [00:04<00:00, 1139.46 uttr/s, accuracy=0.91, loss=0.44]\n",
            "Train: 100% 2000/2000 [02:59<00:00, 11.17 step/s, accuracy=0.97, loss=0.08, step=156000]\n",
            "Valid: 100% 5664/5667 [00:05<00:00, 1081.62 uttr/s, accuracy=0.91, loss=0.43]\n",
            "Train: 100% 2000/2000 [02:54<00:00, 11.49 step/s, accuracy=1.00, loss=0.07, step=158000]\n",
            "Valid: 100% 5664/5667 [00:04<00:00, 1135.12 uttr/s, accuracy=0.91, loss=0.43]\n",
            "Train: 100% 2000/2000 [02:55<00:00, 11.37 step/s, accuracy=1.00, loss=0.01, step=160000]\n",
            "Valid: 100% 5664/5667 [00:05<00:00, 1090.99 uttr/s, accuracy=0.91, loss=0.46]\n",
            "Train:   0% 2/2000 [00:00<06:21,  5.24 step/s, accuracy=0.94, loss=0.10, step=160002]"
          ]
        },
        {
          "name": "stdout",
          "output_type": "stream",
          "text": [
            "Step 160000, best model saved. (accuracy=0.9135)\n"
          ]
        },
        {
          "name": "stderr",
          "output_type": "stream",
          "text": [
            "Train: 100% 2000/2000 [02:57<00:00, 11.29 step/s, accuracy=0.97, loss=0.13, step=162000]\n",
            "Valid: 100% 5664/5667 [00:04<00:00, 1141.07 uttr/s, accuracy=0.91, loss=0.44]\n",
            "Train: 100% 2000/2000 [02:56<00:00, 11.32 step/s, accuracy=0.91, loss=0.24, step=164000]\n",
            "Valid: 100% 5664/5667 [00:05<00:00, 1092.43 uttr/s, accuracy=0.91, loss=0.47]\n",
            "Train: 100% 2000/2000 [02:57<00:00, 11.30 step/s, accuracy=0.97, loss=0.09, step=166000]\n",
            "Valid: 100% 5664/5667 [00:04<00:00, 1144.01 uttr/s, accuracy=0.92, loss=0.41]\n",
            "Train: 100% 2000/2000 [02:58<00:00, 11.18 step/s, accuracy=1.00, loss=0.05, step=168000]\n",
            "Valid: 100% 5664/5667 [00:05<00:00, 1087.70 uttr/s, accuracy=0.92, loss=0.39]\n",
            "Train: 100% 2000/2000 [02:56<00:00, 11.32 step/s, accuracy=1.00, loss=0.04, step=170000]\n",
            "Valid: 100% 5664/5667 [00:05<00:00, 1077.78 uttr/s, accuracy=0.91, loss=0.46]\n",
            "Train:   0% 2/2000 [00:00<07:15,  4.58 step/s, accuracy=0.91, loss=0.18, step=170002]"
          ]
        },
        {
          "name": "stdout",
          "output_type": "stream",
          "text": [
            "Step 170000, best model saved. (accuracy=0.9228)\n"
          ]
        },
        {
          "name": "stderr",
          "output_type": "stream",
          "text": [
            "Train: 100% 2000/2000 [03:00<00:00, 11.08 step/s, accuracy=0.97, loss=0.05, step=172000]\n",
            "Valid: 100% 5664/5667 [00:05<00:00, 1093.82 uttr/s, accuracy=0.91, loss=0.42]\n",
            "Train: 100% 2000/2000 [02:57<00:00, 11.25 step/s, accuracy=0.97, loss=0.12, step=174000]\n",
            "Valid: 100% 5664/5667 [00:05<00:00, 1066.45 uttr/s, accuracy=0.92, loss=0.40]\n",
            "Train: 100% 2000/2000 [02:56<00:00, 11.32 step/s, accuracy=1.00, loss=0.01, step=176000]\n",
            "Valid: 100% 5664/5667 [00:05<00:00, 1078.52 uttr/s, accuracy=0.92, loss=0.40]\n",
            "Train: 100% 2000/2000 [02:59<00:00, 11.12 step/s, accuracy=0.97, loss=0.14, step=178000]\n",
            "Valid: 100% 5664/5667 [00:05<00:00, 1092.63 uttr/s, accuracy=0.92, loss=0.39]\n",
            "Train: 100% 2000/2000 [02:53<00:00, 11.51 step/s, accuracy=0.97, loss=0.09, step=180000]\n",
            "Valid: 100% 5664/5667 [00:05<00:00, 1096.77 uttr/s, accuracy=0.91, loss=0.44]\n",
            "Train:   0% 2/2000 [00:00<08:20,  4.00 step/s, accuracy=1.00, loss=0.03, step=180002]"
          ]
        },
        {
          "name": "stdout",
          "output_type": "stream",
          "text": [
            "Step 180000, best model saved. (accuracy=0.9228)\n"
          ]
        },
        {
          "name": "stderr",
          "output_type": "stream",
          "text": [
            "Train: 100% 2000/2000 [02:58<00:00, 11.22 step/s, accuracy=1.00, loss=0.01, step=182000]\n",
            "Valid: 100% 5664/5667 [00:05<00:00, 1085.75 uttr/s, accuracy=0.91, loss=0.43]\n",
            "Train: 100% 2000/2000 [02:57<00:00, 11.28 step/s, accuracy=0.97, loss=0.03, step=184000]\n",
            "Valid: 100% 5664/5667 [00:04<00:00, 1147.90 uttr/s, accuracy=0.91, loss=0.46]\n",
            "Train: 100% 2000/2000 [03:00<00:00, 11.09 step/s, accuracy=0.97, loss=0.16, step=186000]\n",
            "Valid: 100% 5664/5667 [00:05<00:00, 1091.91 uttr/s, accuracy=0.92, loss=0.42]\n",
            "Train: 100% 2000/2000 [02:57<00:00, 11.28 step/s, accuracy=0.94, loss=0.07, step=188000]\n",
            "Valid: 100% 5664/5667 [00:05<00:00, 1076.39 uttr/s, accuracy=0.91, loss=0.44]\n",
            "Train: 100% 2000/2000 [03:00<00:00, 11.05 step/s, accuracy=1.00, loss=0.00, step=190000]\n",
            "Valid: 100% 5664/5667 [00:05<00:00, 1054.56 uttr/s, accuracy=0.92, loss=0.42]\n",
            "Train:   0% 2/2000 [00:00<06:45,  4.93 step/s, accuracy=1.00, loss=0.01, step=190002]"
          ]
        },
        {
          "name": "stdout",
          "output_type": "stream",
          "text": [
            "Step 190000, best model saved. (accuracy=0.9228)\n"
          ]
        },
        {
          "name": "stderr",
          "output_type": "stream",
          "text": [
            "Train: 100% 2000/2000 [02:57<00:00, 11.26 step/s, accuracy=0.91, loss=0.61, step=192000]\n",
            "Valid: 100% 5664/5667 [00:05<00:00, 1088.21 uttr/s, accuracy=0.92, loss=0.41]\n",
            "Train: 100% 2000/2000 [02:58<00:00, 11.18 step/s, accuracy=1.00, loss=0.00, step=194000]\n",
            "Valid: 100% 5664/5667 [00:04<00:00, 1147.13 uttr/s, accuracy=0.92, loss=0.41]\n",
            "Train: 100% 2000/2000 [02:58<00:00, 11.19 step/s, accuracy=1.00, loss=0.00, step=196000]\n",
            "Valid: 100% 5664/5667 [00:05<00:00, 1081.67 uttr/s, accuracy=0.91, loss=0.47]\n",
            "Train: 100% 2000/2000 [02:57<00:00, 11.25 step/s, accuracy=1.00, loss=0.01, step=198000]\n",
            "Valid: 100% 5664/5667 [00:05<00:00, 1065.55 uttr/s, accuracy=0.92, loss=0.41]\n",
            "Train: 100% 2000/2000 [03:00<00:00, 11.10 step/s, accuracy=0.97, loss=0.03, step=2e+5]  \n",
            "Valid: 100% 5664/5667 [00:05<00:00, 1084.67 uttr/s, accuracy=0.92, loss=0.42]\n",
            "Train:   0% 2/2000 [00:00<06:15,  5.32 step/s, accuracy=0.97, loss=0.03, step=2e+5]"
          ]
        },
        {
          "name": "stdout",
          "output_type": "stream",
          "text": [
            "Step 200000, best model saved. (accuracy=0.9228)\n"
          ]
        },
        {
          "name": "stderr",
          "output_type": "stream",
          "text": [
            "Train: 100% 2000/2000 [02:51<00:00, 11.65 step/s, accuracy=1.00, loss=0.03, step=202000]\n",
            "Valid: 100% 5664/5667 [00:04<00:00, 1135.57 uttr/s, accuracy=0.92, loss=0.44]\n",
            "Train: 100% 2000/2000 [02:58<00:00, 11.23 step/s, accuracy=1.00, loss=0.01, step=204000]\n",
            "Valid: 100% 5664/5667 [00:05<00:00, 1096.07 uttr/s, accuracy=0.92, loss=0.43]\n",
            "Train: 100% 2000/2000 [02:54<00:00, 11.47 step/s, accuracy=0.97, loss=0.15, step=206000]\n",
            "Valid: 100% 5664/5667 [00:05<00:00, 998.37 uttr/s, accuracy=0.92, loss=0.40] \n",
            "Train: 100% 2000/2000 [02:59<00:00, 11.15 step/s, accuracy=1.00, loss=0.00, step=208000]\n",
            "Valid: 100% 5664/5667 [00:05<00:00, 1091.33 uttr/s, accuracy=0.91, loss=0.43]\n",
            "Train: 100% 2000/2000 [02:55<00:00, 11.41 step/s, accuracy=1.00, loss=0.00, step=210000]\n",
            "Valid: 100% 5664/5667 [00:05<00:00, 1075.13 uttr/s, accuracy=0.92, loss=0.43]\n",
            "Train:   0% 2/2000 [00:00<06:24,  5.20 step/s, accuracy=1.00, loss=0.00, step=210002]"
          ]
        },
        {
          "name": "stdout",
          "output_type": "stream",
          "text": [
            "Step 210000, best model saved. (accuracy=0.9228)\n"
          ]
        },
        {
          "name": "stderr",
          "output_type": "stream",
          "text": [
            "Train: 100% 2000/2000 [02:59<00:00, 11.12 step/s, accuracy=1.00, loss=0.00, step=212000]\n",
            "Valid: 100% 5664/5667 [00:05<00:00, 1093.27 uttr/s, accuracy=0.93, loss=0.39]\n",
            "Train: 100% 2000/2000 [02:56<00:00, 11.35 step/s, accuracy=1.00, loss=0.02, step=214000]\n",
            "Valid: 100% 5664/5667 [00:05<00:00, 1088.77 uttr/s, accuracy=0.92, loss=0.42]\n",
            "Train: 100% 2000/2000 [02:57<00:00, 11.25 step/s, accuracy=1.00, loss=0.01, step=216000]\n",
            "Valid: 100% 5664/5667 [00:04<00:00, 1139.41 uttr/s, accuracy=0.93, loss=0.39]\n",
            "Train: 100% 2000/2000 [02:58<00:00, 11.20 step/s, accuracy=0.97, loss=0.07, step=218000]\n",
            "Valid: 100% 5664/5667 [00:05<00:00, 1088.07 uttr/s, accuracy=0.93, loss=0.41]\n",
            "Train: 100% 2000/2000 [02:56<00:00, 11.31 step/s, accuracy=1.00, loss=0.01, step=220000]\n",
            "Valid: 100% 5664/5667 [00:05<00:00, 1035.83 uttr/s, accuracy=0.92, loss=0.42]\n",
            "Train:   0% 2/2000 [00:00<06:22,  5.22 step/s, accuracy=1.00, loss=0.02, step=220002]"
          ]
        },
        {
          "name": "stdout",
          "output_type": "stream",
          "text": [
            "Step 220000, best model saved. (accuracy=0.9280)\n"
          ]
        },
        {
          "name": "stderr",
          "output_type": "stream",
          "text": [
            "Train: 100% 2000/2000 [02:59<00:00, 11.14 step/s, accuracy=0.97, loss=0.05, step=222000]\n",
            "Valid: 100% 5664/5667 [00:05<00:00, 1093.54 uttr/s, accuracy=0.93, loss=0.37]\n",
            "Train: 100% 2000/2000 [02:51<00:00, 11.69 step/s, accuracy=1.00, loss=0.01, step=224000]\n",
            "Valid: 100% 5664/5667 [00:05<00:00, 1121.56 uttr/s, accuracy=0.92, loss=0.40]\n",
            "Train: 100% 2000/2000 [02:59<00:00, 11.13 step/s, accuracy=0.97, loss=0.06, step=226000]\n",
            "Valid: 100% 5664/5667 [00:05<00:00, 1080.54 uttr/s, accuracy=0.92, loss=0.40]\n",
            "Train: 100% 2000/2000 [02:55<00:00, 11.38 step/s, accuracy=1.00, loss=0.00, step=228000]\n",
            "Valid: 100% 5664/5667 [00:05<00:00, 1081.83 uttr/s, accuracy=0.92, loss=0.40]\n",
            "Train: 100% 2000/2000 [02:59<00:00, 11.13 step/s, accuracy=1.00, loss=0.01, step=230000]\n",
            "Valid: 100% 5664/5667 [00:05<00:00, 1085.82 uttr/s, accuracy=0.92, loss=0.41]\n",
            "Train:   0% 2/2000 [00:00<04:36,  7.22 step/s, accuracy=1.00, loss=0.00, step=230002]"
          ]
        },
        {
          "name": "stdout",
          "output_type": "stream",
          "text": [
            "Step 230000, best model saved. (accuracy=0.9322)\n"
          ]
        },
        {
          "name": "stderr",
          "output_type": "stream",
          "text": [
            "Train: 100% 2000/2000 [02:57<00:00, 11.28 step/s, accuracy=1.00, loss=0.01, step=232000]\n",
            "Valid: 100% 5664/5667 [00:05<00:00, 1073.25 uttr/s, accuracy=0.93, loss=0.39]\n",
            "Train: 100% 2000/2000 [02:59<00:00, 11.14 step/s, accuracy=0.97, loss=0.03, step=234000]\n",
            "Valid: 100% 5664/5667 [00:05<00:00, 1012.15 uttr/s, accuracy=0.93, loss=0.37]\n",
            "Train: 100% 2000/2000 [02:56<00:00, 11.33 step/s, accuracy=1.00, loss=0.05, step=236000]\n",
            "Valid: 100% 5664/5667 [00:05<00:00, 1092.05 uttr/s, accuracy=0.92, loss=0.41]\n",
            "Train: 100% 2000/2000 [02:56<00:00, 11.32 step/s, accuracy=1.00, loss=0.01, step=238000]\n",
            "Valid: 100% 5664/5667 [00:05<00:00, 1127.45 uttr/s, accuracy=0.92, loss=0.41]\n",
            "Train: 100% 2000/2000 [02:59<00:00, 11.12 step/s, accuracy=1.00, loss=0.06, step=240000]\n",
            "Valid: 100% 5664/5667 [00:05<00:00, 1078.90 uttr/s, accuracy=0.93, loss=0.37]\n",
            "Train:   0% 2/2000 [00:00<06:50,  4.87 step/s, accuracy=1.00, loss=0.00, step=240002]"
          ]
        },
        {
          "name": "stdout",
          "output_type": "stream",
          "text": [
            "Step 240000, best model saved. (accuracy=0.9322)\n"
          ]
        },
        {
          "name": "stderr",
          "output_type": "stream",
          "text": [
            "Train: 100% 2000/2000 [02:58<00:00, 11.22 step/s, accuracy=1.00, loss=0.02, step=242000]\n",
            "Valid: 100% 5664/5667 [00:05<00:00, 1089.57 uttr/s, accuracy=0.93, loss=0.38]\n",
            "Train: 100% 2000/2000 [02:58<00:00, 11.21 step/s, accuracy=1.00, loss=0.00, step=244000]\n",
            "Valid: 100% 5664/5667 [00:04<00:00, 1148.17 uttr/s, accuracy=0.93, loss=0.39]\n",
            "Train: 100% 2000/2000 [02:56<00:00, 11.30 step/s, accuracy=0.97, loss=0.13, step=246000]\n",
            "Valid: 100% 5664/5667 [00:05<00:00, 1090.88 uttr/s, accuracy=0.93, loss=0.36]\n",
            "Train: 100% 2000/2000 [02:58<00:00, 11.23 step/s, accuracy=1.00, loss=0.02, step=248000]\n",
            "Valid: 100% 5664/5667 [00:04<00:00, 1135.88 uttr/s, accuracy=0.93, loss=0.36]\n",
            "Train: 100% 2000/2000 [02:58<00:00, 11.22 step/s, accuracy=1.00, loss=0.00, step=250000]\n",
            "Valid: 100% 5664/5667 [00:05<00:00, 1086.29 uttr/s, accuracy=0.93, loss=0.38]\n",
            "Train:   0% 2/2000 [00:00<06:14,  5.33 step/s, accuracy=1.00, loss=0.00, step=250002]"
          ]
        },
        {
          "name": "stdout",
          "output_type": "stream",
          "text": [
            "Step 250000, best model saved. (accuracy=0.9347)\n"
          ]
        },
        {
          "name": "stderr",
          "output_type": "stream",
          "text": [
            "Train: 100% 2000/2000 [02:57<00:00, 11.28 step/s, accuracy=1.00, loss=0.00, step=252000]\n",
            "Valid: 100% 5664/5667 [00:05<00:00, 1130.80 uttr/s, accuracy=0.93, loss=0.38]\n",
            "Train: 100% 2000/2000 [02:58<00:00, 11.21 step/s, accuracy=1.00, loss=0.01, step=254000]\n",
            "Valid: 100% 5664/5667 [00:05<00:00, 1092.49 uttr/s, accuracy=0.93, loss=0.38]\n",
            "Train: 100% 2000/2000 [02:55<00:00, 11.41 step/s, accuracy=1.00, loss=0.00, step=256000]\n",
            "Valid: 100% 5664/5667 [00:05<00:00, 1080.73 uttr/s, accuracy=0.93, loss=0.39]\n",
            "Train: 100% 2000/2000 [02:59<00:00, 11.13 step/s, accuracy=1.00, loss=0.00, step=258000]\n",
            "Valid: 100% 5664/5667 [00:05<00:00, 1083.66 uttr/s, accuracy=0.93, loss=0.39]\n",
            "Train: 100% 2000/2000 [02:58<00:00, 11.19 step/s, accuracy=1.00, loss=0.00, step=260000]\n",
            "Valid: 100% 5664/5667 [00:05<00:00, 1088.00 uttr/s, accuracy=0.94, loss=0.35]\n",
            "Train:   0% 2/2000 [00:00<07:20,  4.54 step/s, accuracy=1.00, loss=0.00, step=260002]"
          ]
        },
        {
          "name": "stdout",
          "output_type": "stream",
          "text": [
            "Step 260000, best model saved. (accuracy=0.9407)\n"
          ]
        },
        {
          "name": "stderr",
          "output_type": "stream",
          "text": [
            "Train: 100% 2000/2000 [02:58<00:00, 11.18 step/s, accuracy=1.00, loss=0.00, step=262000]\n",
            "Valid: 100% 5664/5667 [00:05<00:00, 1008.80 uttr/s, accuracy=0.93, loss=0.36]\n",
            "Train: 100% 2000/2000 [03:00<00:00, 11.10 step/s, accuracy=1.00, loss=0.00, step=264000]\n",
            "Valid: 100% 5664/5667 [00:05<00:00, 1092.92 uttr/s, accuracy=0.94, loss=0.34]\n",
            "Train: 100% 2000/2000 [02:53<00:00, 11.50 step/s, accuracy=1.00, loss=0.00, step=266000]\n",
            "Valid: 100% 5664/5667 [00:04<00:00, 1144.72 uttr/s, accuracy=0.93, loss=0.36]\n",
            "Train: 100% 2000/2000 [02:56<00:00, 11.36 step/s, accuracy=1.00, loss=0.01, step=268000]\n",
            "Valid: 100% 5664/5667 [00:05<00:00, 1041.97 uttr/s, accuracy=0.94, loss=0.34]\n",
            "Train: 100% 2000/2000 [02:57<00:00, 11.26 step/s, accuracy=1.00, loss=0.00, step=270000]\n",
            "Valid: 100% 5664/5667 [00:04<00:00, 1137.24 uttr/s, accuracy=0.94, loss=0.36]\n",
            "Train:   0% 2/2000 [00:00<06:30,  5.12 step/s, accuracy=1.00, loss=0.00, step=270002]"
          ]
        },
        {
          "name": "stdout",
          "output_type": "stream",
          "text": [
            "Step 270000, best model saved. (accuracy=0.9407)\n"
          ]
        },
        {
          "name": "stderr",
          "output_type": "stream",
          "text": [
            "Train: 100% 2000/2000 [02:55<00:00, 11.41 step/s, accuracy=0.97, loss=0.04, step=272000]\n",
            "Valid: 100% 5664/5667 [00:05<00:00, 1085.95 uttr/s, accuracy=0.94, loss=0.33]\n",
            "Train: 100% 2000/2000 [02:58<00:00, 11.23 step/s, accuracy=1.00, loss=0.00, step=274000]\n",
            "Valid: 100% 5664/5667 [00:04<00:00, 1142.18 uttr/s, accuracy=0.94, loss=0.35]\n",
            "Train: 100% 2000/2000 [02:58<00:00, 11.22 step/s, accuracy=1.00, loss=0.00, step=276000]\n",
            "Valid: 100% 5664/5667 [00:05<00:00, 1073.80 uttr/s, accuracy=0.94, loss=0.36]\n",
            "Train: 100% 2000/2000 [02:56<00:00, 11.31 step/s, accuracy=1.00, loss=0.00, step=278000]\n",
            "Valid: 100% 5664/5667 [00:05<00:00, 1082.49 uttr/s, accuracy=0.93, loss=0.35]\n",
            "Train: 100% 2000/2000 [02:59<00:00, 11.16 step/s, accuracy=0.97, loss=0.09, step=280000]\n",
            "Valid: 100% 5664/5667 [00:05<00:00, 1084.92 uttr/s, accuracy=0.93, loss=0.37]\n",
            "Train:   0% 2/2000 [00:00<06:31,  5.10 step/s, accuracy=1.00, loss=0.00, step=280002]"
          ]
        },
        {
          "name": "stdout",
          "output_type": "stream",
          "text": [
            "Step 280000, best model saved. (accuracy=0.9407)\n"
          ]
        },
        {
          "name": "stderr",
          "output_type": "stream",
          "text": [
            "Train: 100% 2000/2000 [02:56<00:00, 11.36 step/s, accuracy=1.00, loss=0.00, step=282000]\n",
            "Valid: 100% 5664/5667 [00:05<00:00, 1089.09 uttr/s, accuracy=0.94, loss=0.37]\n",
            "Train: 100% 2000/2000 [02:59<00:00, 11.17 step/s, accuracy=1.00, loss=0.00, step=284000]\n",
            "Valid: 100% 5664/5667 [00:04<00:00, 1142.52 uttr/s, accuracy=0.94, loss=0.34]\n",
            "Train: 100% 2000/2000 [02:57<00:00, 11.26 step/s, accuracy=1.00, loss=0.00, step=286000]\n",
            "Valid: 100% 5664/5667 [00:05<00:00, 1089.66 uttr/s, accuracy=0.94, loss=0.31]\n",
            "Train: 100% 2000/2000 [02:54<00:00, 11.43 step/s, accuracy=1.00, loss=0.00, step=288000]\n",
            "Valid: 100% 5664/5667 [00:05<00:00, 988.34 uttr/s, accuracy=0.94, loss=0.32] \n",
            "Train: 100% 2000/2000 [02:54<00:00, 11.46 step/s, accuracy=1.00, loss=0.00, step=290000]\n",
            "Valid: 100% 5664/5667 [00:05<00:00, 985.59 uttr/s, accuracy=0.93, loss=0.36] \n",
            "Train:   0% 2/2000 [00:00<06:46,  4.92 step/s, accuracy=1.00, loss=0.00, step=290002]"
          ]
        },
        {
          "name": "stdout",
          "output_type": "stream",
          "text": [
            "Step 290000, best model saved. (accuracy=0.9426)\n"
          ]
        },
        {
          "name": "stderr",
          "output_type": "stream",
          "text": [
            "Train: 100% 2000/2000 [02:58<00:00, 11.18 step/s, accuracy=1.00, loss=0.02, step=292000]\n",
            "Valid: 100% 5664/5667 [00:04<00:00, 1150.20 uttr/s, accuracy=0.94, loss=0.30]\n",
            "Train: 100% 2000/2000 [02:54<00:00, 11.44 step/s, accuracy=1.00, loss=0.00, step=294000]\n",
            "Valid: 100% 5664/5667 [00:05<00:00, 1094.78 uttr/s, accuracy=0.94, loss=0.32]\n",
            "Train: 100% 2000/2000 [02:58<00:00, 11.18 step/s, accuracy=1.00, loss=0.04, step=296000]\n",
            "Valid: 100% 5664/5667 [00:04<00:00, 1139.21 uttr/s, accuracy=0.94, loss=0.35]\n",
            "Train: 100% 2000/2000 [02:58<00:00, 11.19 step/s, accuracy=1.00, loss=0.00, step=298000]\n",
            "Valid: 100% 5664/5667 [00:05<00:00, 1086.06 uttr/s, accuracy=0.94, loss=0.33]\n",
            "Train: 100% 2000/2000 [02:56<00:00, 11.35 step/s, accuracy=1.00, loss=0.00, step=3e+5]  \n",
            "Valid: 100% 5664/5667 [00:05<00:00, 1072.03 uttr/s, accuracy=0.94, loss=0.33]\n",
            "Train:   0% 2/2000 [00:00<06:40,  4.99 step/s, accuracy=1.00, loss=0.00, step=3e+5]"
          ]
        },
        {
          "name": "stdout",
          "output_type": "stream",
          "text": [
            "Step 300000, best model saved. (accuracy=0.9440)\n"
          ]
        },
        {
          "name": "stderr",
          "output_type": "stream",
          "text": [
            "Train: 100% 2000/2000 [03:00<00:00, 11.09 step/s, accuracy=1.00, loss=0.00, step=302000]\n",
            "Valid: 100% 5664/5667 [00:05<00:00, 1090.14 uttr/s, accuracy=0.94, loss=0.33]\n",
            "Train: 100% 2000/2000 [02:56<00:00, 11.30 step/s, accuracy=1.00, loss=0.00, step=304000]\n",
            "Valid: 100% 5664/5667 [00:05<00:00, 1087.06 uttr/s, accuracy=0.94, loss=0.36]\n",
            "Train: 100% 2000/2000 [03:00<00:00, 11.09 step/s, accuracy=1.00, loss=0.00, step=306000]\n",
            "Valid: 100% 5664/5667 [00:05<00:00, 1086.27 uttr/s, accuracy=0.94, loss=0.31]\n",
            "Train: 100% 2000/2000 [02:57<00:00, 11.28 step/s, accuracy=1.00, loss=0.00, step=308000]\n",
            "Valid: 100% 5664/5667 [00:05<00:00, 1036.46 uttr/s, accuracy=0.95, loss=0.31]\n",
            "Train: 100% 2000/2000 [02:55<00:00, 11.37 step/s, accuracy=1.00, loss=0.00, step=310000]\n",
            "Valid: 100% 5664/5667 [00:05<00:00, 1131.88 uttr/s, accuracy=0.94, loss=0.32]\n",
            "Train:   0% 2/2000 [00:00<06:51,  4.86 step/s, accuracy=1.00, loss=0.00, step=310002]"
          ]
        },
        {
          "name": "stdout",
          "output_type": "stream",
          "text": [
            "Step 310000, best model saved. (accuracy=0.9462)\n"
          ]
        },
        {
          "name": "stderr",
          "output_type": "stream",
          "text": [
            "Train: 100% 2000/2000 [02:56<00:00, 11.35 step/s, accuracy=1.00, loss=0.00, step=312000]\n",
            "Valid: 100% 5664/5667 [00:05<00:00, 1093.66 uttr/s, accuracy=0.94, loss=0.34]\n",
            "Train: 100% 2000/2000 [02:58<00:00, 11.21 step/s, accuracy=1.00, loss=0.00, step=314000]\n",
            "Valid: 100% 5664/5667 [00:04<00:00, 1140.13 uttr/s, accuracy=0.95, loss=0.31]\n",
            "Train: 100% 2000/2000 [02:56<00:00, 11.31 step/s, accuracy=1.00, loss=0.00, step=316000]\n",
            "Valid: 100% 5664/5667 [00:05<00:00, 1090.12 uttr/s, accuracy=0.95, loss=0.31]\n",
            "Train: 100% 2000/2000 [02:55<00:00, 11.37 step/s, accuracy=1.00, loss=0.00, step=318000]\n",
            "Valid: 100% 5664/5667 [00:04<00:00, 1139.06 uttr/s, accuracy=0.95, loss=0.32]\n",
            "Train: 100% 2000/2000 [02:58<00:00, 11.18 step/s, accuracy=1.00, loss=0.00, step=320000]\n",
            "Valid: 100% 5664/5667 [00:05<00:00, 1084.65 uttr/s, accuracy=0.95, loss=0.30]\n",
            "Train:   0% 2/2000 [00:00<06:24,  5.19 step/s, accuracy=1.00, loss=0.00, step=320002]"
          ]
        },
        {
          "name": "stdout",
          "output_type": "stream",
          "text": [
            "Step 320000, best model saved. (accuracy=0.9484)\n"
          ]
        },
        {
          "name": "stderr",
          "output_type": "stream",
          "text": [
            "Train: 100% 2000/2000 [02:57<00:00, 11.28 step/s, accuracy=1.00, loss=0.00, step=322000]\n",
            "Valid: 100% 5664/5667 [00:05<00:00, 1081.47 uttr/s, accuracy=0.94, loss=0.34]\n",
            "Train: 100% 2000/2000 [02:59<00:00, 11.16 step/s, accuracy=1.00, loss=0.00, step=324000]\n",
            "Valid: 100% 5664/5667 [00:05<00:00, 1093.69 uttr/s, accuracy=0.95, loss=0.32]\n",
            "Train: 100% 2000/2000 [02:56<00:00, 11.31 step/s, accuracy=1.00, loss=0.00, step=326000]\n",
            "Valid: 100% 5664/5667 [00:05<00:00, 1093.29 uttr/s, accuracy=0.94, loss=0.32]\n",
            "Train: 100% 2000/2000 [02:56<00:00, 11.34 step/s, accuracy=1.00, loss=0.00, step=328000]\n",
            "Valid: 100% 5664/5667 [00:05<00:00, 1042.46 uttr/s, accuracy=0.94, loss=0.33]\n",
            "Train: 100% 2000/2000 [02:59<00:00, 11.13 step/s, accuracy=1.00, loss=0.00, step=330000]\n",
            "Valid: 100% 5664/5667 [00:05<00:00, 1080.88 uttr/s, accuracy=0.95, loss=0.30]\n",
            "Train:   0% 2/2000 [00:00<06:14,  5.33 step/s, accuracy=1.00, loss=0.00, step=330002]"
          ]
        },
        {
          "name": "stdout",
          "output_type": "stream",
          "text": [
            "Step 330000, best model saved. (accuracy=0.9484)\n"
          ]
        },
        {
          "name": "stderr",
          "output_type": "stream",
          "text": [
            "Train: 100% 2000/2000 [02:53<00:00, 11.51 step/s, accuracy=0.97, loss=0.06, step=332000]\n",
            "Valid: 100% 5664/5667 [00:04<00:00, 1139.68 uttr/s, accuracy=0.95, loss=0.35]\n",
            "Train: 100% 2000/2000 [02:59<00:00, 11.17 step/s, accuracy=1.00, loss=0.00, step=334000]\n",
            "Valid: 100% 5664/5667 [00:05<00:00, 1089.17 uttr/s, accuracy=0.94, loss=0.33]\n",
            "Train: 100% 2000/2000 [02:54<00:00, 11.47 step/s, accuracy=1.00, loss=0.00, step=336000]\n",
            "Valid: 100% 5664/5667 [00:05<00:00, 1080.49 uttr/s, accuracy=0.95, loss=0.30]\n",
            "Train: 100% 2000/2000 [03:01<00:00, 11.01 step/s, accuracy=1.00, loss=0.00, step=338000]\n",
            "Valid: 100% 5664/5667 [00:05<00:00, 1040.61 uttr/s, accuracy=0.95, loss=0.32]\n",
            "Train: 100% 2000/2000 [02:54<00:00, 11.43 step/s, accuracy=1.00, loss=0.00, step=340000]\n",
            "Valid: 100% 5664/5667 [00:05<00:00, 1065.86 uttr/s, accuracy=0.95, loss=0.32]\n",
            "Train:   0% 2/2000 [00:00<06:36,  5.04 step/s, accuracy=1.00, loss=0.00, step=340002]"
          ]
        },
        {
          "name": "stdout",
          "output_type": "stream",
          "text": [
            "Step 340000, best model saved. (accuracy=0.9490)\n"
          ]
        },
        {
          "name": "stderr",
          "output_type": "stream",
          "text": [
            "Train: 100% 2000/2000 [03:00<00:00, 11.11 step/s, accuracy=0.97, loss=0.02, step=342000]\n",
            "Valid: 100% 5664/5667 [00:05<00:00, 1087.83 uttr/s, accuracy=0.95, loss=0.30]\n",
            "Train: 100% 2000/2000 [02:56<00:00, 11.32 step/s, accuracy=1.00, loss=0.01, step=344000]\n",
            "Valid: 100% 5664/5667 [00:05<00:00, 1092.73 uttr/s, accuracy=0.95, loss=0.32]\n",
            "Train: 100% 2000/2000 [02:57<00:00, 11.27 step/s, accuracy=1.00, loss=0.00, step=346000]\n",
            "Valid: 100% 5664/5667 [00:04<00:00, 1138.19 uttr/s, accuracy=0.95, loss=0.29]\n",
            "Train: 100% 2000/2000 [02:59<00:00, 11.16 step/s, accuracy=1.00, loss=0.00, step=348000]\n",
            "Valid: 100% 5664/5667 [00:05<00:00, 1084.57 uttr/s, accuracy=0.95, loss=0.30]\n",
            "Train: 100% 2000/2000 [02:58<00:00, 11.18 step/s, accuracy=1.00, loss=0.00, step=350000]\n",
            "Valid: 100% 5664/5667 [00:05<00:00, 1079.25 uttr/s, accuracy=0.95, loss=0.30]\n",
            "Train:   0% 2/2000 [00:00<06:30,  5.12 step/s, accuracy=1.00, loss=0.00, step=350002]"
          ]
        },
        {
          "name": "stdout",
          "output_type": "stream",
          "text": [
            "Step 350000, best model saved. (accuracy=0.9495)\n"
          ]
        },
        {
          "name": "stderr",
          "output_type": "stream",
          "text": [
            "Train: 100% 2000/2000 [02:58<00:00, 11.20 step/s, accuracy=1.00, loss=0.00, step=352000]\n",
            "Valid: 100% 5664/5667 [00:04<00:00, 1151.84 uttr/s, accuracy=0.95, loss=0.31]\n",
            "Train: 100% 2000/2000 [02:50<00:00, 11.70 step/s, accuracy=1.00, loss=0.00, step=354000]\n",
            "Valid: 100% 5664/5667 [00:05<00:00, 1093.94 uttr/s, accuracy=0.95, loss=0.33]\n",
            "Train: 100% 2000/2000 [02:59<00:00, 11.15 step/s, accuracy=1.00, loss=0.00, step=356000]\n",
            "Valid: 100% 5664/5667 [00:05<00:00, 1084.17 uttr/s, accuracy=0.94, loss=0.33]\n",
            "Train: 100% 2000/2000 [02:55<00:00, 11.42 step/s, accuracy=1.00, loss=0.00, step=358000]\n",
            "Valid: 100% 5664/5667 [00:05<00:00, 1083.27 uttr/s, accuracy=0.95, loss=0.31]\n",
            "Train: 100% 2000/2000 [02:59<00:00, 11.15 step/s, accuracy=1.00, loss=0.00, step=360000]\n",
            "Valid: 100% 5664/5667 [00:05<00:00, 1023.61 uttr/s, accuracy=0.95, loss=0.31]\n",
            "Train:   0% 2/2000 [00:00<06:17,  5.29 step/s, accuracy=0.97, loss=0.03, step=360002]"
          ]
        },
        {
          "name": "stdout",
          "output_type": "stream",
          "text": [
            "Step 360000, best model saved. (accuracy=0.9497)\n"
          ]
        },
        {
          "name": "stderr",
          "output_type": "stream",
          "text": [
            "Train: 100% 2000/2000 [02:58<00:00, 11.23 step/s, accuracy=1.00, loss=0.00, step=362000]\n",
            "Valid: 100% 5664/5667 [00:05<00:00, 1090.67 uttr/s, accuracy=0.95, loss=0.30]\n",
            "Train: 100% 2000/2000 [02:59<00:00, 11.13 step/s, accuracy=1.00, loss=0.00, step=364000]\n",
            "Valid: 100% 5664/5667 [00:04<00:00, 1137.85 uttr/s, accuracy=0.95, loss=0.30]\n",
            "Train: 100% 2000/2000 [03:00<00:00, 11.08 step/s, accuracy=1.00, loss=0.00, step=366000]\n",
            "Valid: 100% 5664/5667 [00:05<00:00, 1092.42 uttr/s, accuracy=0.95, loss=0.28]\n",
            "Train: 100% 2000/2000 [02:57<00:00, 11.25 step/s, accuracy=1.00, loss=0.00, step=368000]\n",
            "Valid: 100% 5664/5667 [00:05<00:00, 1086.03 uttr/s, accuracy=0.95, loss=0.30]\n",
            "Train: 100% 2000/2000 [02:59<00:00, 11.14 step/s, accuracy=1.00, loss=0.00, step=370000]\n",
            "Valid: 100% 5664/5667 [00:05<00:00, 1075.92 uttr/s, accuracy=0.95, loss=0.30]\n",
            "Train:   0% 2/2000 [00:00<06:18,  5.28 step/s, accuracy=1.00, loss=0.00, step=370002]"
          ]
        },
        {
          "name": "stdout",
          "output_type": "stream",
          "text": [
            "Step 370000, best model saved. (accuracy=0.9520)\n"
          ]
        },
        {
          "name": "stderr",
          "output_type": "stream",
          "text": [
            "Train: 100% 2000/2000 [02:57<00:00, 11.26 step/s, accuracy=1.00, loss=0.00, step=372000]\n",
            "Valid: 100% 5664/5667 [00:05<00:00, 1081.50 uttr/s, accuracy=0.95, loss=0.30]\n",
            "Train: 100% 2000/2000 [02:56<00:00, 11.34 step/s, accuracy=1.00, loss=0.00, step=374000]\n",
            "Valid: 100% 5664/5667 [00:04<00:00, 1141.36 uttr/s, accuracy=0.95, loss=0.31]\n",
            "Train: 100% 2000/2000 [02:56<00:00, 11.31 step/s, accuracy=1.00, loss=0.00, step=376000]\n",
            "Valid: 100% 5664/5667 [00:05<00:00, 1085.33 uttr/s, accuracy=0.95, loss=0.29]\n",
            "Train: 100% 2000/2000 [02:56<00:00, 11.34 step/s, accuracy=0.97, loss=0.03, step=378000]\n",
            "Valid: 100% 5664/5667 [00:04<00:00, 1144.50 uttr/s, accuracy=0.96, loss=0.28]\n",
            "Train: 100% 2000/2000 [02:56<00:00, 11.31 step/s, accuracy=1.00, loss=0.00, step=380000]\n",
            "Valid: 100% 5664/5667 [00:05<00:00, 1082.20 uttr/s, accuracy=0.95, loss=0.30]\n",
            "Train:   0% 2/2000 [00:00<06:28,  5.15 step/s, accuracy=1.00, loss=0.00, step=380002]"
          ]
        },
        {
          "name": "stdout",
          "output_type": "stream",
          "text": [
            "Step 380000, best model saved. (accuracy=0.9555)\n"
          ]
        },
        {
          "name": "stderr",
          "output_type": "stream",
          "text": [
            "Train: 100% 2000/2000 [02:56<00:00, 11.32 step/s, accuracy=1.00, loss=0.00, step=382000]\n",
            "Valid: 100% 5664/5667 [00:04<00:00, 1142.14 uttr/s, accuracy=0.95, loss=0.30]\n",
            "Train: 100% 2000/2000 [02:58<00:00, 11.23 step/s, accuracy=1.00, loss=0.00, step=384000]\n",
            "Valid: 100% 5664/5667 [00:05<00:00, 1088.41 uttr/s, accuracy=0.95, loss=0.28]\n",
            "Train: 100% 2000/2000 [02:55<00:00, 11.40 step/s, accuracy=1.00, loss=0.00, step=386000]\n",
            "Valid: 100% 5664/5667 [00:05<00:00, 1126.65 uttr/s, accuracy=0.95, loss=0.32]\n",
            "Train: 100% 2000/2000 [03:01<00:00, 11.01 step/s, accuracy=1.00, loss=0.00, step=388000]\n",
            "Valid: 100% 5664/5667 [00:05<00:00, 1088.39 uttr/s, accuracy=0.95, loss=0.29]\n",
            "Train: 100% 2000/2000 [02:58<00:00, 11.19 step/s, accuracy=1.00, loss=0.00, step=390000]\n",
            "Valid: 100% 5664/5667 [00:05<00:00, 1069.31 uttr/s, accuracy=0.95, loss=0.30]\n",
            "Train:   0% 2/2000 [00:00<06:10,  5.39 step/s, accuracy=1.00, loss=0.00, step=390002]"
          ]
        },
        {
          "name": "stdout",
          "output_type": "stream",
          "text": [
            "Step 390000, best model saved. (accuracy=0.9555)\n"
          ]
        },
        {
          "name": "stderr",
          "output_type": "stream",
          "text": [
            "Train: 100% 2000/2000 [03:01<00:00, 11.04 step/s, accuracy=1.00, loss=0.00, step=392000]\n",
            "Valid: 100% 5664/5667 [00:05<00:00, 1047.10 uttr/s, accuracy=0.96, loss=0.28]\n",
            "Train: 100% 2000/2000 [02:59<00:00, 11.15 step/s, accuracy=1.00, loss=0.00, step=394000]\n",
            "Valid: 100% 5664/5667 [00:05<00:00, 1088.30 uttr/s, accuracy=0.95, loss=0.30]\n",
            "Train: 100% 2000/2000 [02:55<00:00, 11.38 step/s, accuracy=0.97, loss=0.03, step=396000]\n",
            "Valid: 100% 5664/5667 [00:04<00:00, 1145.24 uttr/s, accuracy=0.95, loss=0.31]\n",
            "Train: 100% 2000/2000 [02:59<00:00, 11.16 step/s, accuracy=1.00, loss=0.00, step=398000]\n",
            "Valid: 100% 5664/5667 [00:05<00:00, 1088.81 uttr/s, accuracy=0.96, loss=0.28]\n",
            "Train: 100% 2000/2000 [02:55<00:00, 11.42 step/s, accuracy=1.00, loss=0.00, step=4e+5]  \n",
            "Valid: 100% 5664/5667 [00:05<00:00, 1131.85 uttr/s, accuracy=0.95, loss=0.29]\n",
            "Train:   0% 2/2000 [00:00<06:48,  4.90 step/s, accuracy=1.00, loss=0.00, step=4e+5]"
          ]
        },
        {
          "name": "stdout",
          "output_type": "stream",
          "text": [
            "Step 400000, best model saved. (accuracy=0.9564)\n"
          ]
        },
        {
          "name": "stderr",
          "output_type": "stream",
          "text": [
            "Train: 100% 2000/2000 [02:59<00:00, 11.14 step/s, accuracy=1.00, loss=0.00, step=402000]\n",
            "Valid: 100% 5664/5667 [00:05<00:00, 1093.57 uttr/s, accuracy=0.95, loss=0.28]\n",
            "Train: 100% 2000/2000 [02:54<00:00, 11.47 step/s, accuracy=1.00, loss=0.00, step=404000]\n",
            "Valid: 100% 5664/5667 [00:05<00:00, 1081.53 uttr/s, accuracy=0.95, loss=0.29]\n",
            "Train: 100% 2000/2000 [02:59<00:00, 11.15 step/s, accuracy=1.00, loss=0.00, step=406000]\n",
            "Valid: 100% 5664/5667 [00:05<00:00, 1090.37 uttr/s, accuracy=0.95, loss=0.32]\n",
            "Train: 100% 2000/2000 [02:58<00:00, 11.20 step/s, accuracy=1.00, loss=0.00, step=408000]\n",
            "Valid: 100% 5664/5667 [00:05<00:00, 1083.99 uttr/s, accuracy=0.95, loss=0.32]\n",
            "Train: 100% 2000/2000 [02:58<00:00, 11.21 step/s, accuracy=1.00, loss=0.00, step=410000]\n",
            "Valid: 100% 5664/5667 [00:04<00:00, 1137.02 uttr/s, accuracy=0.96, loss=0.29]\n",
            "Train:   0% 2/2000 [00:00<06:54,  4.82 step/s, accuracy=1.00, loss=0.00, step=410002]"
          ]
        },
        {
          "name": "stdout",
          "output_type": "stream",
          "text": [
            "Step 410000, best model saved. (accuracy=0.9564)\n"
          ]
        },
        {
          "name": "stderr",
          "output_type": "stream",
          "text": [
            "Train: 100% 2000/2000 [02:58<00:00, 11.22 step/s, accuracy=1.00, loss=0.00, step=412000]\n",
            "Valid: 100% 5664/5667 [00:05<00:00, 1087.66 uttr/s, accuracy=0.95, loss=0.29]\n",
            "Train: 100% 2000/2000 [02:55<00:00, 11.41 step/s, accuracy=1.00, loss=0.00, step=414000]\n",
            "Valid: 100% 5664/5667 [00:04<00:00, 1140.03 uttr/s, accuracy=0.95, loss=0.29]\n",
            "Train: 100% 2000/2000 [02:58<00:00, 11.20 step/s, accuracy=1.00, loss=0.00, step=416000]\n",
            "Valid: 100% 5664/5667 [00:05<00:00, 1089.63 uttr/s, accuracy=0.95, loss=0.30]\n",
            "Train: 100% 2000/2000 [02:54<00:00, 11.48 step/s, accuracy=1.00, loss=0.00, step=418000]\n",
            "Valid: 100% 5664/5667 [00:05<00:00, 1042.31 uttr/s, accuracy=0.95, loss=0.31]\n",
            "Train: 100% 2000/2000 [02:59<00:00, 11.15 step/s, accuracy=1.00, loss=0.00, step=420000]\n",
            "Valid: 100% 5664/5667 [00:05<00:00, 1084.83 uttr/s, accuracy=0.95, loss=0.28]\n",
            "Train:   0% 0/2000 [00:00<?, ? step/s]\n"
          ]
        },
        {
          "name": "stdout",
          "output_type": "stream",
          "text": [
            "Step 420000, best model saved. (accuracy=0.9564)\n"
          ]
        }
      ],
      "source": [
        "from tqdm import tqdm\n",
        "\n",
        "import torch\n",
        "import torch.nn as nn\n",
        "from torch.optim import AdamW\n",
        "from torch.utils.data import DataLoader, random_split\n",
        "\n",
        "\n",
        "def parse_args():\n",
        "\t\"\"\"arguments\"\"\"\n",
        "\tconfig = {\n",
        "\t\t\"data_dir\": \"./Dataset\",\n",
        "\t\t\"save_path\": \"model.ckpt\",\n",
        "\t\t\"batch_size\": 32,\n",
        "\t\t\"n_workers\": 12,\n",
        "\t\t\"valid_steps\": 2000,\n",
        "\t\t\"warmup_steps\": 6000,\n",
        "\t\t\"save_steps\": 10000,\n",
        "\t\t\"total_steps\": 420000,\n",
        "\t}\n",
        "\n",
        "\treturn config\n",
        "\n",
        "\n",
        "def main(\n",
        "\tdata_dir,\n",
        "\tsave_path,\n",
        "\tbatch_size,\n",
        "\tn_workers,\n",
        "\tvalid_steps,\n",
        "\twarmup_steps,\n",
        "\ttotal_steps,\n",
        "\tsave_steps,\n",
        "):\n",
        "\t\"\"\"Main function.\"\"\"\n",
        "\tdevice = torch.device(\"cuda\" if torch.cuda.is_available() else \"cpu\")\n",
        "\tprint(f\"[Info]: Use {device} now!\")\n",
        "\n",
        "\ttrain_loader, valid_loader, speaker_num = get_dataloader(data_dir, batch_size, n_workers)\n",
        "\ttrain_iterator = iter(train_loader)\n",
        "\tprint(f\"[Info]: Finish loading data!\",flush = True)\n",
        "\n",
        "\tmodel = Classifier(n_spks=speaker_num).to(device)\n",
        "\t# criterion = nn.CrossEntropyLoss()\n",
        "\toptimizer = AdamW(model.parameters(), lr=1e-3)\n",
        "\tscheduler = get_cosine_schedule_with_warmup(optimizer, warmup_steps, total_steps)\n",
        "\tprint(f\"[Info]: Finish creating model!\",flush = True)\n",
        "\n",
        "\tbest_accuracy = -1.0\n",
        "\tbest_state_dict = None\n",
        "\n",
        "\tpbar = tqdm(total=valid_steps, ncols=0, desc=\"Train\", unit=\" step\")\n",
        "\n",
        "\tfor step in range(total_steps):\n",
        "\t\t# Get data\n",
        "\t\ttry:\n",
        "\t\t\tbatch = next(train_iterator)\n",
        "\t\texcept StopIteration:\n",
        "\t\t\ttrain_iterator = iter(train_loader)\n",
        "\t\t\tbatch = next(train_iterator)\n",
        "\n",
        "\t\t# loss, accuracy = model_fn(batch, model, criterion, device)\n",
        "\t\tloss, accuracy = model_fn(batch, model, device)\n",
        "\t\tbatch_loss = loss.item()\n",
        "\t\tbatch_accuracy = accuracy.item()\n",
        "\n",
        "\t\t# Updata model\n",
        "\t\tloss.backward()\n",
        "\t\toptimizer.step()\n",
        "\t\tscheduler.step()\n",
        "\t\toptimizer.zero_grad()\n",
        "\n",
        "\t\t# Log\n",
        "\t\tpbar.update()\n",
        "\t\tpbar.set_postfix(\n",
        "\t\t\tloss=f\"{batch_loss:.2f}\",\n",
        "\t\t\taccuracy=f\"{batch_accuracy:.2f}\",\n",
        "\t\t\tstep=step + 1,\n",
        "\t\t)\n",
        "\n",
        "\t\t# Do validation\n",
        "\t\tif (step + 1) % valid_steps == 0:\n",
        "\t\t\tpbar.close()\n",
        "\n",
        "\t\t\tvalid_accuracy = valid(valid_loader, model, device)\n",
        "\n",
        "\t\t\t# keep the best model\n",
        "\t\t\tif valid_accuracy > best_accuracy:\n",
        "\t\t\t\tbest_accuracy = valid_accuracy\n",
        "\t\t\t\tbest_state_dict = model.state_dict()\n",
        "\n",
        "\t\t\tpbar = tqdm(total=valid_steps, ncols=0, desc=\"Train\", unit=\" step\")\n",
        "\n",
        "\t\t# Save the best model so far.\n",
        "\t\tif (step + 1) % save_steps == 0 and best_state_dict is not None:\n",
        "\t\t\ttorch.save(best_state_dict, save_path)\n",
        "\t\t\tpbar.write(f\"Step {step + 1}, best model saved. (accuracy={best_accuracy:.4f})\")\n",
        "\n",
        "\tpbar.close()\n",
        "\n",
        "\n",
        "if __name__ == \"__main__\":\n",
        "\tmain(**parse_args())"
      ]
    },
    {
      "cell_type": "markdown",
      "metadata": {
        "id": "NLatBYAhNNMx"
      },
      "source": [
        "# Inference\n",
        "\n",
        "## Dataset of inference"
      ]
    },
    {
      "cell_type": "code",
      "execution_count": 12,
      "metadata": {
        "colab": {
          "background_save": true
        },
        "id": "efS4pCmAJXJH"
      },
      "outputs": [],
      "source": [
        "import os\n",
        "import json\n",
        "import torch\n",
        "from pathlib import Path\n",
        "from torch.utils.data import Dataset\n",
        "\n",
        "\n",
        "class InferenceDataset(Dataset):\n",
        "\tdef __init__(self, data_dir):\n",
        "\t\ttestdata_path = Path(data_dir) / \"testdata.json\"\n",
        "\t\tmetadata = json.load(testdata_path.open())\n",
        "\t\tself.data_dir = data_dir\n",
        "\t\tself.data = metadata[\"utterances\"]\n",
        "\n",
        "\tdef __len__(self):\n",
        "\t\treturn len(self.data)\n",
        "\n",
        "\tdef __getitem__(self, index):\n",
        "\t\tutterance = self.data[index]\n",
        "\t\tfeat_path = utterance[\"feature_path\"]\n",
        "\t\tmel = torch.load(os.path.join(self.data_dir, feat_path))\n",
        "\n",
        "\t\treturn feat_path, mel\n",
        "\n",
        "\n",
        "def inference_collate_batch(batch):\n",
        "\t\"\"\"Collate a batch of data.\"\"\"\n",
        "\tfeat_paths, mels = zip(*batch)\n",
        "\tlengths = torch.FloatTensor([m.size(0) for m in mels])\n",
        "\n",
        "\treturn feat_paths, lengths, torch.stack(mels)"
      ]
    },
    {
      "cell_type": "markdown",
      "metadata": {
        "id": "tl0WnYwxNK_S"
      },
      "source": [
        "## Main funcrion of Inference"
      ]
    },
    {
      "cell_type": "code",
      "execution_count": 13,
      "metadata": {
        "colab": {
          "background_save": true
        },
        "id": "i8SAbuXEJb2A"
      },
      "outputs": [
        {
          "name": "stdout",
          "output_type": "stream",
          "text": [
            "[Info]: Use cuda now!\n",
            "[Info]: Finish loading data!\n",
            "[Info]: Finish creating model!\n"
          ]
        },
        {
          "data": {
            "application/vnd.jupyter.widget-view+json": {
              "model_id": "9e9e241688c5494baa67f0a5e500b108",
              "version_major": 2,
              "version_minor": 0
            },
            "text/plain": [
              "  0%|          | 0/8000 [00:00<?, ?it/s]"
            ]
          },
          "metadata": {},
          "output_type": "display_data"
        },
        {
          "name": "stderr",
          "output_type": "stream",
          "text": [
            "/tmp/ipykernel_6656/2003241190.py:27: UserWarning: Implicit dimension choice for softmax has been deprecated. Change the call to include dim=X as an argument.\n",
            "  att_w = softmax(self.W(batch_rep).squeeze(-1)).unsqueeze(-1)\n"
          ]
        }
      ],
      "source": [
        "import json\n",
        "import csv\n",
        "from pathlib import Path\n",
        "from tqdm.notebook import tqdm\n",
        "\n",
        "import torch\n",
        "from torch.utils.data import DataLoader\n",
        "\n",
        "def parse_args():\n",
        "\t\"\"\"arguments\"\"\"\n",
        "\tconfig = {\n",
        "\t\t\"data_dir\": \"./Dataset\",\n",
        "\t\t\"model_path\": \"./model.ckpt\",\n",
        "\t\t\"output_path\": \"./output.csv\",\n",
        "\t}\n",
        "\n",
        "\treturn config\n",
        "\n",
        "\n",
        "def main(\n",
        "\tdata_dir,\n",
        "\tmodel_path,\n",
        "\toutput_path,\n",
        "):\n",
        "\t\"\"\"Main function.\"\"\"\n",
        "\tdevice = torch.device(\"cuda\" if torch.cuda.is_available() else \"cpu\")\n",
        "\tprint(f\"[Info]: Use {device} now!\")\n",
        "\n",
        "\tmapping_path = Path(data_dir) / \"mapping.json\"\n",
        "\tmapping = json.load(mapping_path.open())\n",
        "\n",
        "\tdataset = InferenceDataset(data_dir)\n",
        "\tdataloader = DataLoader(\n",
        "\t\tdataset,\n",
        "\t\tbatch_size=1,\n",
        "\t\tshuffle=False,\n",
        "\t\tdrop_last=False,\n",
        "\t\tnum_workers=8,\n",
        "\t\tcollate_fn=inference_collate_batch,\n",
        "\t)\n",
        "\tprint(f\"[Info]: Finish loading data!\",flush = True)\n",
        "\n",
        "\tspeaker_num = len(mapping[\"id2speaker\"])\n",
        "\tmodel = Classifier(n_spks=speaker_num).to(device)\n",
        "\tmodel.load_state_dict(torch.load(model_path))\n",
        "\tmodel.eval()\n",
        "\tprint(f\"[Info]: Finish creating model!\",flush = True)\n",
        "\n",
        "\tresults = [[\"Id\", \"Category\"]]\n",
        "\tfor feat_paths, lengths, mels in tqdm(dataloader):\n",
        "\t\twith torch.no_grad():\n",
        "\t\t\tmels = mels.to(device)\n",
        "\t\t\tlengths = lengths.to(device)\n",
        "\t\t\touts, _ = model(mels, lengths)\n",
        "\t\t\tpreds = outs.argmax(1).cpu().numpy()\n",
        "\t\t\tfor feat_path, pred in zip(feat_paths, preds):\n",
        "\t\t\t\tresults.append([feat_path, mapping[\"id2speaker\"][str(pred)]])\n",
        "\n",
        "\twith open(output_path, 'w', newline='') as csvfile:\n",
        "\t\twriter = csv.writer(csvfile)\n",
        "\t\twriter.writerows(results)\n",
        "\n",
        "\n",
        "if __name__ == \"__main__\":\n",
        "\tmain(**parse_args())"
      ]
    }
  ],
  "metadata": {
    "accelerator": "GPU",
    "colab": {
      "collapsed_sections": [],
      "name": "hw04.ipynb",
      "provenance": []
    },
    "kernelspec": {
      "display_name": "ml2022spring",
      "language": "python",
      "name": "python3"
    },
    "language_info": {
      "codemirror_mode": {
        "name": "ipython",
        "version": 3
      },
      "file_extension": ".py",
      "mimetype": "text/x-python",
      "name": "python",
      "nbconvert_exporter": "python",
      "pygments_lexer": "ipython3",
      "version": "3.11.11"
    }
  },
  "nbformat": 4,
  "nbformat_minor": 0
}
